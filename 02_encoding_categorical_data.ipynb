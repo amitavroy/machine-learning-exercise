{
 "cells": [
  {
   "cell_type": "markdown",
   "metadata": {},
   "source": [
    "# Encoding categorical data"
   ]
  },
  {
   "cell_type": "markdown",
   "metadata": {},
   "source": [
    "## Importing libraries"
   ]
  },
  {
   "cell_type": "code",
   "execution_count": 21,
   "metadata": {},
   "outputs": [],
   "source": [
    "import pandas as pd\n",
    "import numpy as np\n"
   ]
  },
  {
   "cell_type": "markdown",
   "metadata": {},
   "source": [
    "## Loading the data and checking"
   ]
  },
  {
   "cell_type": "code",
   "execution_count": 22,
   "metadata": {},
   "outputs": [
    {
     "data": {
      "text/html": [
       "<div>\n",
       "<style scoped>\n",
       "    .dataframe tbody tr th:only-of-type {\n",
       "        vertical-align: middle;\n",
       "    }\n",
       "\n",
       "    .dataframe tbody tr th {\n",
       "        vertical-align: top;\n",
       "    }\n",
       "\n",
       "    .dataframe thead th {\n",
       "        text-align: right;\n",
       "    }\n",
       "</style>\n",
       "<table border=\"1\" class=\"dataframe\">\n",
       "  <thead>\n",
       "    <tr style=\"text-align: right;\">\n",
       "      <th></th>\n",
       "      <th>date</th>\n",
       "      <th>expense_type</th>\n",
       "      <th>payment_method</th>\n",
       "      <th>amount</th>\n",
       "    </tr>\n",
       "  </thead>\n",
       "  <tbody>\n",
       "    <tr>\n",
       "      <th>0</th>\n",
       "      <td>2023-04-13</td>\n",
       "      <td>Outside Food</td>\n",
       "      <td>Net Banking</td>\n",
       "      <td>481.0</td>\n",
       "    </tr>\n",
       "    <tr>\n",
       "      <th>1</th>\n",
       "      <td>2023-04-13</td>\n",
       "      <td>Household</td>\n",
       "      <td>Credit Card</td>\n",
       "      <td>2000.0</td>\n",
       "    </tr>\n",
       "    <tr>\n",
       "      <th>2</th>\n",
       "      <td>2023-04-14</td>\n",
       "      <td>Outside Food</td>\n",
       "      <td>Net Banking</td>\n",
       "      <td>400.0</td>\n",
       "    </tr>\n",
       "    <tr>\n",
       "      <th>3</th>\n",
       "      <td>2023-04-14</td>\n",
       "      <td>Travel</td>\n",
       "      <td>Net Banking</td>\n",
       "      <td>560.0</td>\n",
       "    </tr>\n",
       "    <tr>\n",
       "      <th>4</th>\n",
       "      <td>2023-04-14</td>\n",
       "      <td>Household</td>\n",
       "      <td>Net Banking</td>\n",
       "      <td>2800.0</td>\n",
       "    </tr>\n",
       "  </tbody>\n",
       "</table>\n",
       "</div>"
      ],
      "text/plain": [
       "        date  expense_type payment_method  amount\n",
       "0 2023-04-13  Outside Food    Net Banking   481.0\n",
       "1 2023-04-13     Household    Credit Card  2000.0\n",
       "2 2023-04-14  Outside Food    Net Banking   400.0\n",
       "3 2023-04-14        Travel    Net Banking   560.0\n",
       "4 2023-04-14     Household    Net Banking  2800.0"
      ]
     },
     "execution_count": 22,
     "metadata": {},
     "output_type": "execute_result"
    }
   ],
   "source": [
    "df = pd.read_csv('data/expenses.csv', parse_dates=['date'])\n",
    "df.head()\n"
   ]
  },
  {
   "cell_type": "markdown",
   "metadata": {},
   "source": [
    "## Encoding the two categories"
   ]
  },
  {
   "cell_type": "markdown",
   "metadata": {},
   "source": [
    "### Loading the libraries"
   ]
  },
  {
   "cell_type": "code",
   "execution_count": 23,
   "metadata": {},
   "outputs": [],
   "source": [
    "from sklearn.compose import ColumnTransformer\n",
    "from sklearn.preprocessing import OneHotEncoder, LabelEncoder\n"
   ]
  },
  {
   "cell_type": "code",
   "execution_count": 24,
   "metadata": {},
   "outputs": [
    {
     "name": "stdout",
     "output_type": "stream",
     "text": [
      "[[0.0 0.0 1.0 0.0 0.0 0.0 1.0 Timestamp('2023-04-13 00:00:00') 481.0]\n",
      " [1.0 0.0 0.0 0.0 0.0 1.0 0.0 Timestamp('2023-04-13 00:00:00') 2000.0]\n",
      " [0.0 0.0 1.0 0.0 0.0 0.0 1.0 Timestamp('2023-04-14 00:00:00') 400.0]\n",
      " [0.0 0.0 0.0 1.0 0.0 0.0 1.0 Timestamp('2023-04-14 00:00:00') 560.0]\n",
      " [1.0 0.0 0.0 0.0 0.0 0.0 1.0 Timestamp('2023-04-14 00:00:00') 2800.0]\n",
      " [1.0 0.0 0.0 0.0 1.0 0.0 0.0 Timestamp('2023-04-06 00:00:00') 600.0]\n",
      " [1.0 0.0 0.0 0.0 0.0 0.0 1.0 Timestamp('2023-04-06 00:00:00') 338.0]\n",
      " [0.0 0.0 0.0 1.0 0.0 0.0 1.0 Timestamp('2023-04-12 00:00:00') 300.0]\n",
      " [0.0 1.0 0.0 0.0 0.0 0.0 1.0 Timestamp('2023-04-11 00:00:00') 90.0]\n",
      " [0.0 0.0 1.0 0.0 0.0 0.0 1.0 Timestamp('2023-04-08 00:00:00') 125.0]\n",
      " [0.0 0.0 1.0 0.0 0.0 0.0 1.0 Timestamp('2023-04-08 00:00:00') 90.0]\n",
      " [0.0 1.0 0.0 0.0 0.0 0.0 1.0 Timestamp('2023-04-08 00:00:00') 1000.0]\n",
      " [1.0 0.0 0.0 0.0 0.0 0.0 1.0 Timestamp('2023-04-08 00:00:00') 200.0]\n",
      " [1.0 0.0 0.0 0.0 0.0 0.0 1.0 Timestamp('2023-04-09 00:00:00') 950.0]\n",
      " [1.0 0.0 0.0 0.0 1.0 0.0 0.0 Timestamp('2023-04-06 00:00:00') 600.0]\n",
      " [0.0 0.0 1.0 0.0 0.0 0.0 1.0 Timestamp('2023-04-03 00:00:00') 557.0]\n",
      " [0.0 0.0 0.0 1.0 1.0 0.0 0.0 Timestamp('2023-04-03 00:00:00') 260.0]\n",
      " [1.0 0.0 0.0 0.0 1.0 0.0 0.0 Timestamp('2023-04-06 00:00:00') 145.0]\n",
      " [0.0 0.0 0.0 1.0 1.0 0.0 0.0 Timestamp('2023-04-06 00:00:00') 52.0]\n",
      " [0.0 0.0 1.0 0.0 0.0 0.0 1.0 Timestamp('2023-04-07 00:00:00') 30.0]]\n"
     ]
    }
   ],
   "source": [
    "columns = ['expense_type', 'payment_method']\n",
    "ct = ColumnTransformer(transformers=[('encoder', OneHotEncoder(), columns)], remainder='passthrough')\n",
    "\n",
    "df_transformed = ct.fit_transform(df)\n",
    "print(df_transformed)\n"
   ]
  }
 ],
 "metadata": {
  "kernelspec": {
   "display_name": "base",
   "language": "python",
   "name": "python3"
  },
  "language_info": {
   "codemirror_mode": {
    "name": "ipython",
    "version": 3
   },
   "file_extension": ".py",
   "mimetype": "text/x-python",
   "name": "python",
   "nbconvert_exporter": "python",
   "pygments_lexer": "ipython3",
   "version": "3.11.5"
  }
 },
 "nbformat": 4,
 "nbformat_minor": 2
}
