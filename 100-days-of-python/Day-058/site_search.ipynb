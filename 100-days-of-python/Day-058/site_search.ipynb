{
 "cells": [
  {
   "cell_type": "markdown",
   "metadata": {},
   "source": [
    "# Blog search\n",
    "\n",
    "Trying to set up a script which will crawl the content of my website. And then I will store embeddings inside FAISS DB and use that for search. \n",
    "\n",
    "This is just an experiment. No intention to add this to my website as a search option."
   ]
  },
  {
   "cell_type": "code",
   "execution_count": 2,
   "metadata": {},
   "outputs": [],
   "source": [
    "import requests\n",
    "from bs4 import BeautifulSoup"
   ]
  },
  {
   "cell_type": "code",
   "execution_count": 3,
   "metadata": {},
   "outputs": [],
   "source": [
    "def crawl_content(url: str):\n",
    "    if not url:\n",
    "        raise ValueError(\"Invalid URL provided.\")\n",
    "    \n",
    "    try:\n",
    "        response = requests.get(url, headers={'User-Agent': 'Mozilla/5.0'})\n",
    "        response.raise_for_status()  # Raise an exception for non-200 status codes\n",
    "\n",
    "        soup = BeautifulSoup(response.content, 'html.parser')\n",
    "        article_content = soup.find(\"main\", class_=\"article-full\")\n",
    "\n",
    "        if article_content:\n",
    "            return article_content.text.strip()  # Extract and clean the text content\n",
    "        else:\n",
    "            print(f\"Content not found in <main> tag with class 'article-full' on {url}.\")\n",
    "            return None\n",
    "\n",
    "    except (requests.exceptions.RequestException, ValueError) as e:\n",
    "        print(f\"Error crawling {url}: {e}\")\n",
    "        return None"
   ]
  },
  {
   "cell_type": "code",
   "execution_count": 6,
   "metadata": {},
   "outputs": [],
   "source": [
    "urls = [\n",
    "    'https://www.amitavroy.com/articles/beyond-boundaries-how-frankenphp-redefines-php-application-runtimes-2024-01-01',\n",
    "    'https://www.amitavroy.com/articles/the-future-is-low-code-adapting-to-the-inevitable-2023-10-24',\n",
    "]"
   ]
  },
  {
   "cell_type": "code",
   "execution_count": 9,
   "metadata": {},
   "outputs": [
    {
     "data": {
      "text/plain": [
       "[['What is FrankenPHP?',\n",
       "  'FrankenPHP is a contemporary PHP app server crafted in Go, boasting numerous advantages. Among its standout features, one that truly captures the spotlight is its remarkable ability to construct a standalone and self-contained binary. This particular feature holds immense significance, particularly in the realm of shipping PHP applications to production.',\n",
       "  'FrankenPHP is a modern PHP app server written in Go. Here are some points which really sets it apart from others in the race',\n",
       "  '',\n",
       "  'It’s about 3.5x faster than PHP FPM.',\n",
       "  'Written in Go and C, it relies on Go’s iconic goroutines features',\n",
       "  'It uses Caddy server under the hood. So, HTTPS support for local development is also available out of the box',\n",
       "  'It has native support for HTTP/1.1, HTTP/2 and HTTP/3. Having a reduced round-trip time for HTTP/3, it’s a very performant option.',\n",
       "  '',\n",
       "  'The game-changing perks',\n",
       "  \"Now, let's talk about the good things that make FrankenPHP stand out in the crowd. We've touched on a few points earlier, but there are some features that got me particularly excited. These aren't just perks; they're the kind that can genuinely shake up your development and deployment game.\",\n",
       "  'Single binary - Deployment Bliss',\n",
       "  \"Ever dreamed of simplifying your deployment process? FrankenPHP makes it happen. The ability to whip up a single binary for our entire PHP application is a game-changer. No need for additional software – just a straightforward Ubuntu docker container is all you require to run your PHP apps. This not only streamlines deployment but also trims down the docker container's size on production. Less software onboard means fewer attack vectors, and trust me, that's a security win we all want.Worker Script Mode - Powering Up Performance\",\n",
       "  \"Let's talk about performance, shall we? One of the cool things about Node applications is their ability to run entirely from memory, providing a performance boost for high-traffic scenarios. Guess what? FrankenPHP brings that magic to PHP using its worker mode. Boot up once, stay in memory, and enjoy a significant performance boost. It's the kind of wizardry that keeps your app nimble and ready for action.\",\n",
       "  '103 Early hint support - Speeding Things Up',\n",
       "  \"Ever heard of the 103 status code? I confess it wasn't on my radar until I dug into FrankenPHP. Now, I see how it can turbocharge a site's speed, especially in today's SEO landscape where page speed is king. FrankenPHP claims a whopping 30% reduction in loading time by harnessing early hint support. Curious? Dive into the MDN docs for the full scoop on how this feature works wonders.\",\n",
       "  'Prometheus metrics and tracing - Keeping an Eye on Things',\n",
       "  'For those of us knee-deep in Prometheus for infrastructure monitoring, discovering that FrankenPHP supports it is like finding treasure. Running an application is sweet, but on production, logging is a critical piece of the puzzle. With built-in support for Prometheus metrics and tracing, FrankenPHP just earned itself a star.',\n",
       "  \"So, these are the features that caught my eye. As of January 2nd, I've got one application running on production with FrankenPHP, and I'm eager to share more insights as the journey unfolds. There's even a real-time feature I've spotted in the docs, waiting to be explored. Exciting times ahead!\",\n",
       "  \"What are your thoughts on FrankenPHP? Are you running any applications with it in production? Let's chat on Twitter or LinkedIn—I'm always up for a good tech talk!\"],\n",
       " [\"Let's talk about the future of software development—low-code solutions. In an era where no-code solutions are gaining ground and rapidly evolving, low-code still holds a significant share of the market. Why, you might wonder? Well, both have their unique strengths. No-code platforms offer the speedy creation of prototypes, allowing you to bring your ideas to life in no time. But, it's important to note that they come with their set of concerns, such as potential vendor lock-ins and certain limitations lurking beneath the surface.\",\n",
       "  \"While solutions like Directus certainly look promising, it's the blend of low-code solutions that often strikes the perfect balance. Take, for instance, Filament PHP—a remarkable choice that combines the advantages of low-code development with the assurance of a scalable foundation.\",\n",
       "  \"In this article, written exclusively for my company blog, we'll delve into why a low-code solution like Filament PHP is nothing short of a no-brainer and explore the remarkable advantages it brings to the table.\",\n",
       "  'Read the complete article on company blog Focalworks blog - The Future is low-code: adapting to the Inevitable']]"
      ]
     },
     "execution_count": 9,
     "metadata": {},
     "output_type": "execute_result"
    }
   ],
   "source": [
    "contents = []\n",
    "\n",
    "for url in urls:\n",
    "    contents.append(crawl_content(url=url).splitlines())\n",
    "\n",
    "contents"
   ]
  }
 ],
 "metadata": {
  "kernelspec": {
   "display_name": ".venv",
   "language": "python",
   "name": "python3"
  },
  "language_info": {
   "codemirror_mode": {
    "name": "ipython",
    "version": 3
   },
   "file_extension": ".py",
   "mimetype": "text/x-python",
   "name": "python",
   "nbconvert_exporter": "python",
   "pygments_lexer": "ipython3",
   "version": "3.11.5"
  }
 },
 "nbformat": 4,
 "nbformat_minor": 2
}
