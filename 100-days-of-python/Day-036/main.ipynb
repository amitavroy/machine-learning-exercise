{
  "nbformat": 4,
  "nbformat_minor": 0,
  "metadata": {
    "colab": {
      "provenance": []
    },
    "kernelspec": {
      "name": "python3",
      "display_name": "Python 3"
    },
    "language_info": {
      "name": "python"
    }
  },
  "cells": [
    {
      "cell_type": "code",
      "execution_count": 28,
      "metadata": {
        "id": "LNZjLL555VaS"
      },
      "outputs": [],
      "source": [
        "from matplotlib import pyplot as plt\n",
        "import numpy as np\n",
        "import pandas as pd\n",
        "from collections import Counter"
      ]
    },
    {
      "cell_type": "code",
      "source": [
        "from google.colab import drive\n",
        "drive.mount('/content/drive')"
      ],
      "metadata": {
        "id": "5Vtl62JF48uD"
      },
      "execution_count": null,
      "outputs": []
    },
    {
      "cell_type": "code",
      "source": [
        "ages_x = [25, 26, 27, 28, 29, 30, 31, 32, 33, 34, 35]\n",
        "\n",
        "x_indexes = np.arange(len(ages_x))\n",
        "\n",
        "dev_y = [38496, 42000, 46752, 49320, 53200,\n",
        "         56000, 62316, 64928, 67317, 68748, 73752]"
      ],
      "metadata": {
        "id": "0A883lkH71c7"
      },
      "execution_count": null,
      "outputs": []
    },
    {
      "cell_type": "code",
      "source": [
        "plt.plot(ages_x, dev_y)\n",
        "plt.title('Median Salary (USD) by Age')\n",
        "plt.xlabel('Age')\n",
        "plt.ylabel('Median Salary (USD)')\n",
        "plt.show()"
      ],
      "metadata": {
        "id": "ngnBasj78Rl0"
      },
      "execution_count": null,
      "outputs": []
    },
    {
      "cell_type": "code",
      "source": [
        "py_dev_y = [45372, 48876, 53850, 57287, 63016,\n",
        "            65998, 70003, 70000, 71496, 75370, 83640]"
      ],
      "metadata": {
        "id": "YstHiEAcBHaM"
      },
      "execution_count": null,
      "outputs": []
    },
    {
      "cell_type": "code",
      "source": [
        "# plt.plot(ages_x, dev_y, 'k--', label='All Devs')\n",
        "# plt.plot(ages_x, py_dev_y, 'b', label='Python Devs')\n",
        "\n",
        "plt.plot(ages_x, dev_y, label='All Devs', color='k', linestyle='--', marker='.')\n",
        "plt.plot(ages_x, py_dev_y, label='Python Devs', color='b', marker='o')\n",
        "\n",
        "plt.title('Median Salary (USD) by Age')\n",
        "plt.xlabel('Age')\n",
        "plt.ylabel('Median Salary (USD)')\n",
        "\n",
        "plt.legend()\n",
        "plt.show()"
      ],
      "metadata": {
        "id": "L6IbtlUABWSR"
      },
      "execution_count": null,
      "outputs": []
    },
    {
      "cell_type": "code",
      "source": [
        "js_dev_y = [37810, 43515, 46823, 49293, 53437,\n",
        "            56373, 62375, 66674, 68745, 68746, 74583]"
      ],
      "metadata": {
        "id": "IfjnBp95lmEX"
      },
      "execution_count": null,
      "outputs": []
    },
    {
      "cell_type": "code",
      "source": [
        "plt.plot(ages_x, py_dev_y, label='Python Devs', color='b', marker='o', linewidth='3')\n",
        "plt.plot(ages_x, js_dev_y, label='Javascript Devs', color='r', marker=',')\n",
        "plt.plot(ages_x, dev_y, label='All Devs', color='k', linestyle='--', marker='.')\n",
        "\n",
        "plt.title('Median Salary (USD) by Age')\n",
        "plt.xlabel('Age')\n",
        "plt.ylabel('Median Salary (USD)')\n",
        "\n",
        "plt.legend()\n",
        "plt.grid(True)\n",
        "plt.tight_layout()\n",
        "plt.show()"
      ],
      "metadata": {
        "id": "PWqy6VGiyG0C"
      },
      "execution_count": null,
      "outputs": []
    },
    {
      "cell_type": "code",
      "source": [
        "print(plt.style.available)"
      ],
      "metadata": {
        "id": "61BDjjuuyZqp"
      },
      "execution_count": null,
      "outputs": []
    },
    {
      "cell_type": "code",
      "source": [
        "plt.style.use('ggplot')"
      ],
      "metadata": {
        "id": "sfLBrt5V19a9"
      },
      "execution_count": null,
      "outputs": []
    },
    {
      "cell_type": "code",
      "source": [
        "plt.plot(ages_x, py_dev_y, label='Python Devs', marker='o', linewidth='3')\n",
        "plt.plot(ages_x, js_dev_y, label='Javascript Devs', marker=',')\n",
        "plt.plot(ages_x, dev_y, label='All Devs', color='k', linestyle='--', marker='.')\n",
        "\n",
        "plt.title('Median Salary (USD) by Age')\n",
        "plt.xlabel('Age')\n",
        "plt.ylabel('Median Salary (USD)')\n",
        "\n",
        "plt.legend()\n",
        "plt.grid(True)\n",
        "plt.tight_layout()\n",
        "plt.show()"
      ],
      "metadata": {
        "id": "smRYFkrl2D1t"
      },
      "execution_count": null,
      "outputs": []
    },
    {
      "cell_type": "code",
      "source": [
        "plt.plot(ages_x, py_dev_y, label='Python Devs', color='k')\n",
        "plt.plot(ages_x, js_dev_y, label='Javascript Devs', color='r')\n",
        "plt.bar(ages_x, dev_y, label='All Devs', color='b', linestyle='--')\n",
        "\n",
        "plt.title('Median Salary (USD) by Age')\n",
        "plt.xlabel('Age')\n",
        "plt.ylabel('Median Salary (USD)')\n",
        "\n",
        "plt.legend()\n",
        "plt.grid(True)\n",
        "plt.tight_layout()\n",
        "plt.show()"
      ],
      "metadata": {
        "id": "BjaTD93DEX-T"
      },
      "execution_count": null,
      "outputs": []
    },
    {
      "cell_type": "code",
      "source": [
        "width = 0.25\n",
        "plt.bar(x_indexes - width, py_dev_y, width=width, label='Python Devs', color='g')\n",
        "plt.bar(x_indexes, js_dev_y, width=width, label='Javascript Devs', color='r')\n",
        "plt.bar(x_indexes + width, dev_y, width=width, label='All Devs', color='b', linestyle='--')\n",
        "\n",
        "plt.title('Median Salary (USD) by Age')\n",
        "plt.xlabel('Age')\n",
        "plt.ylabel('Median Salary (USD)')\n",
        "\n",
        "plt.legend()\n",
        "plt.xticks(ticks=x_indexes, labels=ages_x)\n",
        "plt.grid(True)\n",
        "plt.tight_layout()\n",
        "plt.show()"
      ],
      "metadata": {
        "id": "JW1ixlqb1kUB"
      },
      "execution_count": null,
      "outputs": []
    },
    {
      "cell_type": "code",
      "source": [
        "data = pd.read_csv('/content/drive/MyDrive/Colab Notebooks/colab_data/matplotlib_survey.csv')\n",
        "ids = data['Responder_id']\n",
        "lang_responses = data['LanguagesWorkedWith']\n",
        "language_counter = Counter()"
      ],
      "metadata": {
        "id": "Puc6zxRO26bp"
      },
      "execution_count": 36,
      "outputs": []
    },
    {
      "cell_type": "code",
      "source": [
        "for response in lang_responses:\n",
        "  language_counter.update(response.split(';'))"
      ],
      "metadata": {
        "id": "qjizBvw_9MOF"
      },
      "execution_count": 43,
      "outputs": []
    },
    {
      "cell_type": "code",
      "source": [
        "languages = []\n",
        "popularity = []"
      ],
      "metadata": {
        "id": "ILTmAlzZ_XTB"
      },
      "execution_count": 44,
      "outputs": []
    },
    {
      "cell_type": "code",
      "source": [
        "for item in language_counter.most_common(15):\n",
        "  languages.append(item[0])\n",
        "  popularity.append(item[1])\n",
        "\n",
        "languages.reverse()\n",
        "popularity.reverse()\n",
        "\n",
        "plt.barh(languages, popularity)\n",
        "plt.title(\"Most Popular Languages\")\n",
        "plt.xlabel(\"Number of People Who Use\")\n",
        "\n",
        "plt.tight_layout()\n",
        "plt.show()"
      ],
      "metadata": {
        "colab": {
          "base_uri": "https://localhost:8080/",
          "height": 487
        },
        "id": "poyCBxvq_ljk",
        "outputId": "0756d653-bfce-4f61-eb79-46f9fb96c217"
      },
      "execution_count": 46,
      "outputs": [
        {
          "output_type": "display_data",
          "data": {
            "text/plain": [
              "<Figure size 640x480 with 1 Axes>"
            ],
            "image/png": "[encoded data removed]"
          },
          "metadata": {}
        }
      ]
    }
  ]
}