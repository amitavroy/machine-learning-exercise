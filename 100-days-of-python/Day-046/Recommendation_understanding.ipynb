{
  "nbformat": 4,
  "nbformat_minor": 0,
  "metadata": {
    "colab": {
      "provenance": [],
      "toc_visible": true
    },
    "kernelspec": {
      "name": "python3",
      "display_name": "Python 3"
    },
    "language_info": {
      "name": "python"
    }
  },
  "cells": [
    {
      "cell_type": "markdown",
      "source": [
        "# Fetching the data\n",
        "\n",
        "Here we are downloading the data from Github"
      ],
      "metadata": {
        "id": "vsPAfG8NyfXI"
      }
    },
    {
      "cell_type": "code",
      "execution_count": 7,
      "metadata": {
        "colab": {
          "base_uri": "https://localhost:8080/"
        },
        "id": "JKB6eZ1zyFBn",
        "outputId": "afa8d94b-4108-4fc5-a34f-53f61a6eb398"
      },
      "outputs": [
        {
          "output_type": "stream",
          "name": "stdout",
          "text": [
            "Cloning into 'LibRecommender'...\n",
            "remote: Enumerating objects: 9346, done.\u001b[K\n",
            "remote: Counting objects: 100% (9346/9346), done.\u001b[K\n",
            "remote: Compressing objects: 100% (2618/2618), done.\u001b[K\n",
            "remote: Total 9346 (delta 6401), reused 9270 (delta 6357), pack-reused 0\u001b[K\n",
            "Receiving objects: 100% (9346/9346), 11.30 MiB | 12.00 MiB/s, done.\n",
            "Resolving deltas: 100% (6401/6401), done.\n"
          ]
        }
      ],
      "source": [
        "!git clone https://github.com/massquantity/LibRecommender.git"
      ]
    },
    {
      "cell_type": "code",
      "source": [
        "cd LibRecommender"
      ],
      "metadata": {
        "colab": {
          "base_uri": "https://localhost:8080/"
        },
        "id": "_5wIxMcvy8X9",
        "outputId": "501d9422-b26f-43c9-e177-c0d02e96525e"
      },
      "execution_count": 5,
      "outputs": [
        {
          "output_type": "stream",
          "name": "stdout",
          "text": [
            "/content/LibRecommender/LibRecommender\n"
          ]
        }
      ]
    },
    {
      "cell_type": "code",
      "source": [
        "pwd"
      ],
      "metadata": {
        "colab": {
          "base_uri": "https://localhost:8080/",
          "height": 35
        },
        "id": "TUq-E265zbkf",
        "outputId": "fab97e72-d070-41c8-84ce-852f7946a0e3"
      },
      "execution_count": 6,
      "outputs": [
        {
          "output_type": "execute_result",
          "data": {
            "text/plain": [
              "'/content/LibRecommender/LibRecommender'"
            ],
            "application/vnd.google.colaboratory.intrinsic+json": {
              "type": "string"
            }
          },
          "metadata": {},
          "execution_count": 6
        }
      ]
    },
    {
      "cell_type": "markdown",
      "source": [
        "## Installation of requirements"
      ],
      "metadata": {
        "id": "TA730MzBzicF"
      }
    },
    {
      "cell_type": "code",
      "source": [
        "!pip install ."
      ],
      "metadata": {
        "colab": {
          "base_uri": "https://localhost:8080/"
        },
        "id": "3_qPFqKFzgWx",
        "outputId": "a5928124-4c6f-4e28-8d8a-5566f0e41b91"
      },
      "execution_count": 7,
      "outputs": [
        {
          "output_type": "stream",
          "name": "stdout",
          "text": [
            "Processing /content/LibRecommender/LibRecommender\n",
            "  Installing build dependencies ... \u001b[?25l\u001b[?25hdone\n",
            "  Getting requirements to build wheel ... \u001b[?25l\u001b[?25hdone\n",
            "  Preparing metadata (pyproject.toml) ... \u001b[?25l\u001b[?25hdone\n",
            "Requirement already satisfied: gensim>=4.0.0 in /usr/local/lib/python3.10/dist-packages (from LibRecommender==1.4.0) (4.3.2)\n",
            "Requirement already satisfied: tqdm in /usr/local/lib/python3.10/dist-packages (from LibRecommender==1.4.0) (4.66.1)\n",
            "Requirement already satisfied: numpy>=1.18.5 in /usr/local/lib/python3.10/dist-packages (from gensim>=4.0.0->LibRecommender==1.4.0) (1.23.5)\n",
            "Requirement already satisfied: scipy>=1.7.0 in /usr/local/lib/python3.10/dist-packages (from gensim>=4.0.0->LibRecommender==1.4.0) (1.11.4)\n",
            "Requirement already satisfied: smart-open>=1.8.1 in /usr/local/lib/python3.10/dist-packages (from gensim>=4.0.0->LibRecommender==1.4.0) (6.4.0)\n",
            "Building wheels for collected packages: LibRecommender\n",
            "  Building wheel for LibRecommender (pyproject.toml) ... \u001b[?25l\u001b[?25hdone\n",
            "  Created wheel for LibRecommender: filename=LibRecommender-1.4.0-cp310-cp310-linux_x86_64.whl size=2095039 sha256=24dd63096d45d8a64d426f6c4706125ffc9a830615a6ce426e5930ada47b8091\n",
            "  Stored in directory: /tmp/pip-ephem-wheel-cache-36ytfc5e/wheels/32/32/7b/217d1af97d891e0f50b19e88caf6967c887e8e6c6762752c5b\n",
            "Successfully built LibRecommender\n",
            "Installing collected packages: LibRecommender\n",
            "Successfully installed LibRecommender-1.4.0\n"
          ]
        }
      ]
    },
    {
      "cell_type": "code",
      "source": [
        "import numpy as np\n",
        "import pandas as pd\n",
        "from libreco.data import random_split, DatasetPure\n",
        "from libreco.algorithms import LightGCN  # pure data, algorithm LightGCN\n",
        "from libreco.evaluation import evaluate"
      ],
      "metadata": {
        "colab": {
          "base_uri": "https://localhost:8080/"
        },
        "id": "Z4LI72UOznnb",
        "outputId": "5cd80f1f-2618-465b-d6a3-0ef2d797161c"
      },
      "execution_count": 8,
      "outputs": [
        {
          "output_type": "stream",
          "name": "stderr",
          "text": [
            "WARNING:tensorflow:From /usr/local/lib/python3.10/dist-packages/tensorflow/python/compat/v2_compat.py:108: disable_resource_variables (from tensorflow.python.ops.variable_scope) is deprecated and will be removed in a future version.\n",
            "Instructions for updating:\n",
            "non-resource variables are not supported in the long term\n"
          ]
        }
      ]
    },
    {
      "cell_type": "markdown",
      "source": [
        "## Getting the data from the sample data"
      ],
      "metadata": {
        "id": "vSUg-fgz0BB0"
      }
    },
    {
      "cell_type": "code",
      "source": [
        "data = pd.read_csv(\"examples/sample_data/sample_movielens_rating.dat\", sep=\"::\",\n",
        "                   names=[\"user\", \"item\", \"label\", \"time\"])"
      ],
      "metadata": {
        "colab": {
          "base_uri": "https://localhost:8080/"
        },
        "id": "GNumBbJFz6tK",
        "outputId": "d9524bdd-de24-4721-8940-0ab35529d79f"
      },
      "execution_count": 9,
      "outputs": [
        {
          "output_type": "stream",
          "name": "stderr",
          "text": [
            "<ipython-input-9-6949dc8a3f9a>:1: ParserWarning: Falling back to the 'python' engine because the 'c' engine does not support regex separators (separators > 1 char and different from '\\s+' are interpreted as regex); you can avoid this warning by specifying engine='python'.\n",
            "  data = pd.read_csv(\"examples/sample_data/sample_movielens_rating.dat\", sep=\"::\",\n"
          ]
        }
      ]
    },
    {
      "cell_type": "code",
      "source": [
        "data.head()"
      ],
      "metadata": {
        "colab": {
          "base_uri": "https://localhost:8080/",
          "height": 206
        },
        "id": "tDT15I_pz9MW",
        "outputId": "0937568e-fbb9-4588-e5e9-3b023cdc42a0"
      },
      "execution_count": 10,
      "outputs": [
        {
          "output_type": "execute_result",
          "data": {
            "text/plain": [
              "   user  item  label        time\n",
              "0  5488   488      3   959821507\n",
              "1  5698  1682      4   958593778\n",
              "2  3116   260      5   969465180\n",
              "3  1425  1354      5  1024172237\n",
              "4  4808   540      2   962954668"
            ],
            "text/html": [
              "\n",
              "  <div id=\"df-ca9e3060-901d-4cd1-981a-93d7fe8cdc10\" class=\"colab-df-container\">\n",
              "    <div>\n",
              "<style scoped>\n",
              "    .dataframe tbody tr th:only-of-type {\n",
              "        vertical-align: middle;\n",
              "    }\n",
              "\n",
              "    .dataframe tbody tr th {\n",
              "        vertical-align: top;\n",
              "    }\n",
              "\n",
              "    .dataframe thead th {\n",
              "        text-align: right;\n",
              "    }\n",
              "</style>\n",
              "<table border=\"1\" class=\"dataframe\">\n",
              "  <thead>\n",
              "    <tr style=\"text-align: right;\">\n",
              "      <th></th>\n",
              "      <th>user</th>\n",
              "      <th>item</th>\n",
              "      <th>label</th>\n",
              "      <th>time</th>\n",
              "    </tr>\n",
              "  </thead>\n",
              "  <tbody>\n",
              "    <tr>\n",
              "      <th>0</th>\n",
              "      <td>5488</td>\n",
              "      <td>488</td>\n",
              "      <td>3</td>\n",
              "      <td>959821507</td>\n",
              "    </tr>\n",
              "    <tr>\n",
              "      <th>1</th>\n",
              "      <td>5698</td>\n",
              "      <td>1682</td>\n",
              "      <td>4</td>\n",
              "      <td>958593778</td>\n",
              "    </tr>\n",
              "    <tr>\n",
              "      <th>2</th>\n",
              "      <td>3116</td>\n",
              "      <td>260</td>\n",
              "      <td>5</td>\n",
              "      <td>969465180</td>\n",
              "    </tr>\n",
              "    <tr>\n",
              "      <th>3</th>\n",
              "      <td>1425</td>\n",
              "      <td>1354</td>\n",
              "      <td>5</td>\n",
              "      <td>1024172237</td>\n",
              "    </tr>\n",
              "    <tr>\n",
              "      <th>4</th>\n",
              "      <td>4808</td>\n",
              "      <td>540</td>\n",
              "      <td>2</td>\n",
              "      <td>962954668</td>\n",
              "    </tr>\n",
              "  </tbody>\n",
              "</table>\n",
              "</div>\n",
              "    <div class=\"colab-df-buttons\">\n",
              "\n",
              "  <div class=\"colab-df-container\">\n",
              "    <button class=\"colab-df-convert\" onclick=\"convertToInteractive('df-ca9e3060-901d-4cd1-981a-93d7fe8cdc10')\"\n",
              "            title=\"Convert this dataframe to an interactive table.\"\n",
              "            style=\"display:none;\">\n",
              "\n",
              "  <svg xmlns=\"http://www.w3.org/2000/svg\" height=\"24px\" viewBox=\"0 -960 960 960\">\n",
              "    <path d=\"M120-120v-720h720v720H120Zm60-500h600v-160H180v160Zm220 220h160v-160H400v160Zm0 220h160v-160H400v160ZM180-400h160v-160H180v160Zm440 0h160v-160H620v160ZM180-180h160v-160H180v160Zm440 0h160v-160H620v160Z\"/>\n",
              "  </svg>\n",
              "    </button>\n",
              "\n",
              "  <style>\n",
              "    .colab-df-container {\n",
              "      display:flex;\n",
              "      gap: 12px;\n",
              "    }\n",
              "\n",
              "    .colab-df-convert {\n",
              "      background-color: #E8F0FE;\n",
              "      border: none;\n",
              "      border-radius: 50%;\n",
              "      cursor: pointer;\n",
              "      display: none;\n",
              "      fill: #1967D2;\n",
              "      height: 32px;\n",
              "      padding: 0 0 0 0;\n",
              "      width: 32px;\n",
              "    }\n",
              "\n",
              "    .colab-df-convert:hover {\n",
              "      background-color: #E2EBFA;\n",
              "      box-shadow: 0px 1px 2px rgba(60, 64, 67, 0.3), 0px 1px 3px 1px rgba(60, 64, 67, 0.15);\n",
              "      fill: #174EA6;\n",
              "    }\n",
              "\n",
              "    .colab-df-buttons div {\n",
              "      margin-bottom: 4px;\n",
              "    }\n",
              "\n",
              "    [theme=dark] .colab-df-convert {\n",
              "      background-color: #3B4455;\n",
              "      fill: #D2E3FC;\n",
              "    }\n",
              "\n",
              "    [theme=dark] .colab-df-convert:hover {\n",
              "      background-color: #434B5C;\n",
              "      box-shadow: 0px 1px 3px 1px rgba(0, 0, 0, 0.15);\n",
              "      filter: drop-shadow(0px 1px 2px rgba(0, 0, 0, 0.3));\n",
              "      fill: #FFFFFF;\n",
              "    }\n",
              "  </style>\n",
              "\n",
              "    <script>\n",
              "      const buttonEl =\n",
              "        document.querySelector('#df-ca9e3060-901d-4cd1-981a-93d7fe8cdc10 button.colab-df-convert');\n",
              "      buttonEl.style.display =\n",
              "        google.colab.kernel.accessAllowed ? 'block' : 'none';\n",
              "\n",
              "      async function convertToInteractive(key) {\n",
              "        const element = document.querySelector('#df-ca9e3060-901d-4cd1-981a-93d7fe8cdc10');\n",
              "        const dataTable =\n",
              "          await google.colab.kernel.invokeFunction('convertToInteractive',\n",
              "                                                    [key], {});\n",
              "        if (!dataTable) return;\n",
              "\n",
              "        const docLinkHtml = 'Like what you see? Visit the ' +\n",
              "          '<a target=\"_blank\" href=https://colab.research.google.com/notebooks/data_table.ipynb>data table notebook</a>'\n",
              "          + ' to learn more about interactive tables.';\n",
              "        element.innerHTML = '';\n",
              "        dataTable['output_type'] = 'display_data';\n",
              "        await google.colab.output.renderOutput(dataTable, element);\n",
              "        const docLink = document.createElement('div');\n",
              "        docLink.innerHTML = docLinkHtml;\n",
              "        element.appendChild(docLink);\n",
              "      }\n",
              "    </script>\n",
              "  </div>\n",
              "\n",
              "\n",
              "<div id=\"df-9a53f63b-589f-4c60-9171-5c6a544d00b1\">\n",
              "  <button class=\"colab-df-quickchart\" onclick=\"quickchart('df-9a53f63b-589f-4c60-9171-5c6a544d00b1')\"\n",
              "            title=\"Suggest charts\"\n",
              "            style=\"display:none;\">\n",
              "\n",
              "<svg xmlns=\"http://www.w3.org/2000/svg\" height=\"24px\"viewBox=\"0 0 24 24\"\n",
              "     width=\"24px\">\n",
              "    <g>\n",
              "        <path d=\"M19 3H5c-1.1 0-2 .9-2 2v14c0 1.1.9 2 2 2h14c1.1 0 2-.9 2-2V5c0-1.1-.9-2-2-2zM9 17H7v-7h2v7zm4 0h-2V7h2v10zm4 0h-2v-4h2v4z\"/>\n",
              "    </g>\n",
              "</svg>\n",
              "  </button>\n",
              "\n",
              "<style>\n",
              "  .colab-df-quickchart {\n",
              "      --bg-color: #E8F0FE;\n",
              "      --fill-color: #1967D2;\n",
              "      --hover-bg-color: #E2EBFA;\n",
              "      --hover-fill-color: #174EA6;\n",
              "      --disabled-fill-color: #AAA;\n",
              "      --disabled-bg-color: #DDD;\n",
              "  }\n",
              "\n",
              "  [theme=dark] .colab-df-quickchart {\n",
              "      --bg-color: #3B4455;\n",
              "      --fill-color: #D2E3FC;\n",
              "      --hover-bg-color: #434B5C;\n",
              "      --hover-fill-color: #FFFFFF;\n",
              "      --disabled-bg-color: #3B4455;\n",
              "      --disabled-fill-color: #666;\n",
              "  }\n",
              "\n",
              "  .colab-df-quickchart {\n",
              "    background-color: var(--bg-color);\n",
              "    border: none;\n",
              "    border-radius: 50%;\n",
              "    cursor: pointer;\n",
              "    display: none;\n",
              "    fill: var(--fill-color);\n",
              "    height: 32px;\n",
              "    padding: 0;\n",
              "    width: 32px;\n",
              "  }\n",
              "\n",
              "  .colab-df-quickchart:hover {\n",
              "    background-color: var(--hover-bg-color);\n",
              "    box-shadow: 0 1px 2px rgba(60, 64, 67, 0.3), 0 1px 3px 1px rgba(60, 64, 67, 0.15);\n",
              "    fill: var(--button-hover-fill-color);\n",
              "  }\n",
              "\n",
              "  .colab-df-quickchart-complete:disabled,\n",
              "  .colab-df-quickchart-complete:disabled:hover {\n",
              "    background-color: var(--disabled-bg-color);\n",
              "    fill: var(--disabled-fill-color);\n",
              "    box-shadow: none;\n",
              "  }\n",
              "\n",
              "  .colab-df-spinner {\n",
              "    border: 2px solid var(--fill-color);\n",
              "    border-color: transparent;\n",
              "    border-bottom-color: var(--fill-color);\n",
              "    animation:\n",
              "      spin 1s steps(1) infinite;\n",
              "  }\n",
              "\n",
              "  @keyframes spin {\n",
              "    0% {\n",
              "      border-color: transparent;\n",
              "      border-bottom-color: var(--fill-color);\n",
              "      border-left-color: var(--fill-color);\n",
              "    }\n",
              "    20% {\n",
              "      border-color: transparent;\n",
              "      border-left-color: var(--fill-color);\n",
              "      border-top-color: var(--fill-color);\n",
              "    }\n",
              "    30% {\n",
              "      border-color: transparent;\n",
              "      border-left-color: var(--fill-color);\n",
              "      border-top-color: var(--fill-color);\n",
              "      border-right-color: var(--fill-color);\n",
              "    }\n",
              "    40% {\n",
              "      border-color: transparent;\n",
              "      border-right-color: var(--fill-color);\n",
              "      border-top-color: var(--fill-color);\n",
              "    }\n",
              "    60% {\n",
              "      border-color: transparent;\n",
              "      border-right-color: var(--fill-color);\n",
              "    }\n",
              "    80% {\n",
              "      border-color: transparent;\n",
              "      border-right-color: var(--fill-color);\n",
              "      border-bottom-color: var(--fill-color);\n",
              "    }\n",
              "    90% {\n",
              "      border-color: transparent;\n",
              "      border-bottom-color: var(--fill-color);\n",
              "    }\n",
              "  }\n",
              "</style>\n",
              "\n",
              "  <script>\n",
              "    async function quickchart(key) {\n",
              "      const quickchartButtonEl =\n",
              "        document.querySelector('#' + key + ' button');\n",
              "      quickchartButtonEl.disabled = true;  // To prevent multiple clicks.\n",
              "      quickchartButtonEl.classList.add('colab-df-spinner');\n",
              "      try {\n",
              "        const charts = await google.colab.kernel.invokeFunction(\n",
              "            'suggestCharts', [key], {});\n",
              "      } catch (error) {\n",
              "        console.error('Error during call to suggestCharts:', error);\n",
              "      }\n",
              "      quickchartButtonEl.classList.remove('colab-df-spinner');\n",
              "      quickchartButtonEl.classList.add('colab-df-quickchart-complete');\n",
              "    }\n",
              "    (() => {\n",
              "      let quickchartButtonEl =\n",
              "        document.querySelector('#df-9a53f63b-589f-4c60-9171-5c6a544d00b1 button');\n",
              "      quickchartButtonEl.style.display =\n",
              "        google.colab.kernel.accessAllowed ? 'block' : 'none';\n",
              "    })();\n",
              "  </script>\n",
              "</div>\n",
              "    </div>\n",
              "  </div>\n"
            ]
          },
          "metadata": {},
          "execution_count": 10
        }
      ]
    },
    {
      "cell_type": "markdown",
      "source": [
        "## Data check\n",
        "\n",
        "Trying to understand how many users have made how many ratings"
      ],
      "metadata": {
        "id": "A6MaP9oq2I7G"
      }
    },
    {
      "cell_type": "code",
      "source": [
        "data.shape"
      ],
      "metadata": {
        "colab": {
          "base_uri": "https://localhost:8080/"
        },
        "id": "qQGmAD-q2T-A",
        "outputId": "10df0219-8858-4ad4-b3f1-5ee7fcc9a69d"
      },
      "execution_count": 26,
      "outputs": [
        {
          "output_type": "execute_result",
          "data": {
            "text/plain": [
              "(100000, 4)"
            ]
          },
          "metadata": {},
          "execution_count": 26
        }
      ]
    },
    {
      "cell_type": "code",
      "source": [
        "# Checking users and how many ratings they have made\n",
        "data['user'].value_counts()"
      ],
      "metadata": {
        "colab": {
          "base_uri": "https://localhost:8080/"
        },
        "id": "dvvPw8da16Hi",
        "outputId": "a56e547c-830e-43e7-a8c1-7ebf0eaae980"
      },
      "execution_count": 27,
      "outputs": [
        {
          "output_type": "execute_result",
          "data": {
            "text/plain": [
              "4169    233\n",
              "4277    178\n",
              "1680    165\n",
              "889     154\n",
              "1181    148\n",
              "       ... \n",
              "3459      1\n",
              "4197      1\n",
              "5635      1\n",
              "4992      1\n",
              "3802      1\n",
              "Name: user, Length: 5958, dtype: int64"
            ]
          },
          "metadata": {},
          "execution_count": 27
        }
      ]
    },
    {
      "cell_type": "code",
      "source": [
        "data['item'].value_counts()"
      ],
      "metadata": {
        "colab": {
          "base_uri": "https://localhost:8080/"
        },
        "id": "Zn5PiyJ_2emJ",
        "outputId": "0892cdc4-c0d2-4092-e4ff-d454c58e684a"
      },
      "execution_count": 29,
      "outputs": [
        {
          "output_type": "execute_result",
          "data": {
            "text/plain": [
              "2858    372\n",
              "260     296\n",
              "2028    293\n",
              "1196    293\n",
              "1210    273\n",
              "       ... \n",
              "966       1\n",
              "2175      1\n",
              "2674      1\n",
              "632       1\n",
              "3601      1\n",
              "Name: item, Length: 3312, dtype: int64"
            ]
          },
          "metadata": {},
          "execution_count": 29
        }
      ]
    },
    {
      "cell_type": "markdown",
      "source": [
        "## Data split and Train\n",
        "\n",
        "Here we are first splitting the data and then tryting to train the model."
      ],
      "metadata": {
        "id": "bY233kkx0R29"
      }
    },
    {
      "cell_type": "code",
      "source": [
        "train_data, eval_data, test_data = random_split(data, multi_ratios=[0.8, 0.1, 0.1])"
      ],
      "metadata": {
        "id": "LAaFCW-F0Mq7"
      },
      "execution_count": 11,
      "outputs": []
    },
    {
      "cell_type": "code",
      "source": [
        "train_data, data_info = DatasetPure.build_trainset(train_data)\n",
        "eval_data = DatasetPure.build_evalset(eval_data)\n",
        "test_data = DatasetPure.build_testset(test_data)\n",
        "print(data_info)  # n_users: 5894, n_items: 3253, data sparsity: 0.4172 %"
      ],
      "metadata": {
        "colab": {
          "base_uri": "https://localhost:8080/"
        },
        "id": "z06bIUM30byl",
        "outputId": "babbed09-c1d6-4ce8-9b14-b923fb1348c8"
      },
      "execution_count": 12,
      "outputs": [
        {
          "output_type": "stream",
          "name": "stdout",
          "text": [
            "n_users: 5894, n_items: 3253, data density: 0.4172 %\n"
          ]
        }
      ]
    },
    {
      "cell_type": "code",
      "source": [
        "lightgcn = LightGCN(\n",
        "    task=\"ranking\",\n",
        "    data_info=data_info,\n",
        "    loss_type=\"bpr\",\n",
        "    embed_size=16,\n",
        "    n_epochs=3,\n",
        "    lr=1e-3,\n",
        "    batch_size=2048,\n",
        "    num_neg=1,\n",
        "    device=\"cuda\",\n",
        ")"
      ],
      "metadata": {
        "id": "ei0xx-Pr0plH"
      },
      "execution_count": 13,
      "outputs": []
    },
    {
      "cell_type": "code",
      "source": [
        "lightgcn.fit(\n",
        "    train_data,\n",
        "    neg_sampling=True,\n",
        "    verbose=2,\n",
        "    eval_data=eval_data,\n",
        "    metrics=[\"loss\", \"roc_auc\", \"precision\", \"recall\", \"ndcg\"],\n",
        ")"
      ],
      "metadata": {
        "colab": {
          "base_uri": "https://localhost:8080/"
        },
        "id": "F51y_id80sdK",
        "outputId": "65c3e58c-9842-4646-d383-92affc9612be"
      },
      "execution_count": 15,
      "outputs": [
        {
          "output_type": "stream",
          "name": "stdout",
          "text": [
            "Training start time: \u001b[35m2024-02-13 14:15:58\u001b[0m\n"
          ]
        },
        {
          "output_type": "stream",
          "name": "stderr",
          "text": [
            "train: 100%|██████████| 40/40 [00:01<00:00, 21.52it/s]\n"
          ]
        },
        {
          "output_type": "stream",
          "name": "stdout",
          "text": [
            "Epoch 1 elapsed: 1.865s\n",
            "\t \u001b[32mtrain_loss: 0.6926\u001b[0m\n"
          ]
        },
        {
          "output_type": "stream",
          "name": "stderr",
          "text": [
            "eval_pointwise: 100%|██████████| 3/3 [00:00<00:00, 245.55it/s]\n",
            "eval_listwise: 100%|██████████| 1823/1823 [00:00<00:00, 2463.61it/s]\n"
          ]
        },
        {
          "output_type": "stream",
          "name": "stdout",
          "text": [
            "\t eval log_loss: 0.6931\n",
            "\t eval roc_auc: 0.5293\n",
            "\t eval precision@10: 0.0012\n",
            "\t eval recall@10: 0.0050\n",
            "\t eval ndcg@10: 0.0054\n",
            "==============================\n"
          ]
        },
        {
          "output_type": "stream",
          "name": "stderr",
          "text": [
            "train: 100%|██████████| 40/40 [00:02<00:00, 15.07it/s]\n"
          ]
        },
        {
          "output_type": "stream",
          "name": "stdout",
          "text": [
            "Epoch 2 elapsed: 2.667s\n",
            "\t \u001b[32mtrain_loss: 0.6916\u001b[0m\n"
          ]
        },
        {
          "output_type": "stream",
          "name": "stderr",
          "text": [
            "eval_pointwise: 100%|██████████| 3/3 [00:00<00:00, 437.10it/s]\n",
            "eval_listwise: 100%|██████████| 1823/1823 [00:00<00:00, 2698.93it/s]\n"
          ]
        },
        {
          "output_type": "stream",
          "name": "stdout",
          "text": [
            "\t eval log_loss: 0.6921\n",
            "\t eval roc_auc: 0.6767\n",
            "\t eval precision@10: 0.0056\n",
            "\t eval recall@10: 0.0238\n",
            "\t eval ndcg@10: 0.0255\n",
            "==============================\n"
          ]
        },
        {
          "output_type": "stream",
          "name": "stderr",
          "text": [
            "train: 100%|██████████| 40/40 [00:01<00:00, 23.46it/s]\n"
          ]
        },
        {
          "output_type": "stream",
          "name": "stdout",
          "text": [
            "Epoch 3 elapsed: 1.715s\n",
            "\t \u001b[32mtrain_loss: 0.6858\u001b[0m\n"
          ]
        },
        {
          "output_type": "stream",
          "name": "stderr",
          "text": [
            "eval_pointwise: 100%|██████████| 3/3 [00:00<00:00, 358.22it/s]\n",
            "eval_listwise: 100%|██████████| 1823/1823 [00:00<00:00, 2715.34it/s]\n"
          ]
        },
        {
          "output_type": "stream",
          "name": "stdout",
          "text": [
            "\t eval log_loss: 0.6867\n",
            "\t eval roc_auc: 0.7587\n",
            "\t eval precision@10: 0.0083\n",
            "\t eval recall@10: 0.0382\n",
            "\t eval ndcg@10: 0.0384\n",
            "==============================\n"
          ]
        }
      ]
    },
    {
      "cell_type": "markdown",
      "source": [
        "## Evaluation"
      ],
      "metadata": {
        "id": "bTfavBow06Ky"
      }
    },
    {
      "cell_type": "code",
      "source": [
        "evaluate(\n",
        "    model=lightgcn,\n",
        "    data=test_data,\n",
        "    neg_sampling=True,\n",
        "    metrics=[\"loss\", \"roc_auc\", \"precision\", \"recall\", \"ndcg\"],\n",
        ")"
      ],
      "metadata": {
        "colab": {
          "base_uri": "https://localhost:8080/"
        },
        "id": "XxNRiUYc05qV",
        "outputId": "e83d3ada-fed4-43c9-df11-a3cbfdcdef7b"
      },
      "execution_count": 16,
      "outputs": [
        {
          "output_type": "stream",
          "name": "stderr",
          "text": [
            "eval_pointwise: 100%|██████████| 3/3 [00:00<00:00, 340.26it/s]\n",
            "eval_listwise: 100%|██████████| 1846/1846 [00:00<00:00, 2536.51it/s]\n"
          ]
        },
        {
          "output_type": "execute_result",
          "data": {
            "text/plain": [
              "{'loss': 0.6867100704501925,\n",
              " 'roc_auc': 0.7587469661146322,\n",
              " 'precision': 0.008098591549295776,\n",
              " 'recall': 0.03754641802918924,\n",
              " 'ndcg': 0.03670004789053784}"
            ]
          },
          "metadata": {},
          "execution_count": 16
        }
      ]
    },
    {
      "cell_type": "markdown",
      "source": [
        "## Trying out the model\n",
        "\n",
        "Here we are trying out model with\n",
        "\n",
        "- Check if item 110 is a good recommendation for user 2211\n",
        "- Recommend 7 items to user 2211\n",
        "- Do a cold start pediction\n",
        "- Do a cold start recommendation"
      ],
      "metadata": {
        "id": "7TiNbwB70_Um"
      }
    },
    {
      "cell_type": "code",
      "source": [
        "lightgcn.predict(user=2211, item=110)"
      ],
      "metadata": {
        "colab": {
          "base_uri": "https://localhost:8080/"
        },
        "id": "RX4MUNGR1ZBO",
        "outputId": "fffef4a8-4d07-449d-ec96-ee64ae92badb"
      },
      "execution_count": 17,
      "outputs": [
        {
          "output_type": "execute_result",
          "data": {
            "text/plain": [
              "array([0.53209186], dtype=float32)"
            ]
          },
          "metadata": {},
          "execution_count": 17
        }
      ]
    },
    {
      "cell_type": "code",
      "source": [
        "lightgcn.recommend_user(user=2211, n_rec=7)"
      ],
      "metadata": {
        "colab": {
          "base_uri": "https://localhost:8080/"
        },
        "id": "A6786SZF1mBm",
        "outputId": "dd9f1bda-ee42-4736-a545-76161b02842e"
      },
      "execution_count": 18,
      "outputs": [
        {
          "output_type": "execute_result",
          "data": {
            "text/plain": [
              "{2211: array([1196, 2858,  260, 2997,  608, 3578, 1210])}"
            ]
          },
          "metadata": {},
          "execution_count": 18
        }
      ]
    },
    {
      "cell_type": "code",
      "source": [
        "lightgcn.predict(user=\"ccc\", item=\"not item\", cold_start=\"average\")"
      ],
      "metadata": {
        "colab": {
          "base_uri": "https://localhost:8080/"
        },
        "id": "Xx_n-nFq1rNJ",
        "outputId": "1c7658b0-661f-466e-b805-41454bd0c270"
      },
      "execution_count": 19,
      "outputs": [
        {
          "output_type": "stream",
          "name": "stdout",
          "text": [
            "\u001b[31mDetect 1 unknown interaction(s), position: [0]\u001b[0m\n"
          ]
        },
        {
          "output_type": "execute_result",
          "data": {
            "text/plain": [
              "array([0.5050815], dtype=float32)"
            ]
          },
          "metadata": {},
          "execution_count": 19
        }
      ]
    },
    {
      "cell_type": "code",
      "source": [
        "lightgcn.recommend_user(user=\"are we good?\", n_rec=7, cold_start=\"popular\")"
      ],
      "metadata": {
        "colab": {
          "base_uri": "https://localhost:8080/"
        },
        "id": "TXM6fZlh1ucp",
        "outputId": "161a4e25-482f-41dc-ab24-a27270aafb46"
      },
      "execution_count": 20,
      "outputs": [
        {
          "output_type": "stream",
          "name": "stdout",
          "text": [
            "\u001b[31mDetect unknown user: are we good?\u001b[0m\n"
          ]
        },
        {
          "output_type": "execute_result",
          "data": {
            "text/plain": [
              "{'are we good?': array([ 593, 1641, 1527,  919,  919, 2174,  593])}"
            ]
          },
          "metadata": {},
          "execution_count": 20
        }
      ]
    }
  ]
}