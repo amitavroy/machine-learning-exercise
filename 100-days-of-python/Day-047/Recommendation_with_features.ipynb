{
  "nbformat": 4,
  "nbformat_minor": 0,
  "metadata": {
    "colab": {
      "provenance": [],
      "toc_visible": true
    },
    "kernelspec": {
      "name": "python3",
      "display_name": "Python 3"
    },
    "language_info": {
      "name": "python"
    }
  },
  "cells": [
    {
      "cell_type": "markdown",
      "source": [
        "# Recommendation with features"
      ],
      "metadata": {
        "id": "mWz_fehsdVO4"
      }
    },
    {
      "cell_type": "code",
      "source": [
        "!git clone https://github.com/massquantity/LibRecommender.git"
      ],
      "metadata": {
        "colab": {
          "base_uri": "https://localhost:8080/"
        },
        "id": "LWhliLj_FlVu",
        "outputId": "1ec454d6-17dc-488f-a2eb-2c4411c1bbfa"
      },
      "execution_count": null,
      "outputs": [
        {
          "output_type": "stream",
          "name": "stdout",
          "text": [
            "fatal: destination path 'LibRecommender' already exists and is not an empty directory.\n"
          ]
        }
      ]
    },
    {
      "cell_type": "code",
      "source": [
        "cd LibRecommender"
      ],
      "metadata": {
        "colab": {
          "base_uri": "https://localhost:8080/"
        },
        "id": "QfHFubySFoEK",
        "outputId": "3cd6b401-0f43-4dcb-8f59-9764050ef1ca"
      },
      "execution_count": null,
      "outputs": [
        {
          "output_type": "stream",
          "name": "stdout",
          "text": [
            "/content/LibRecommender\n"
          ]
        }
      ]
    },
    {
      "cell_type": "code",
      "source": [
        "!pip install ."
      ],
      "metadata": {
        "colab": {
          "base_uri": "https://localhost:8080/"
        },
        "id": "OMjpfFqXFf2r",
        "outputId": "fa345df1-0841-493e-9042-41b17d27b378"
      },
      "execution_count": null,
      "outputs": [
        {
          "output_type": "stream",
          "name": "stdout",
          "text": [
            "Processing /content/LibRecommender\n",
            "  Installing build dependencies ... \u001b[?25l\u001b[?25hdone\n",
            "  Getting requirements to build wheel ... \u001b[?25l\u001b[?25hdone\n",
            "  Preparing metadata (pyproject.toml) ... \u001b[?25l\u001b[?25hdone\n",
            "Requirement already satisfied: gensim>=4.0.0 in /usr/local/lib/python3.10/dist-packages (from LibRecommender==1.4.0) (4.3.2)\n",
            "Requirement already satisfied: tqdm in /usr/local/lib/python3.10/dist-packages (from LibRecommender==1.4.0) (4.66.1)\n",
            "Requirement already satisfied: numpy>=1.18.5 in /usr/local/lib/python3.10/dist-packages (from gensim>=4.0.0->LibRecommender==1.4.0) (1.25.2)\n",
            "Requirement already satisfied: scipy>=1.7.0 in /usr/local/lib/python3.10/dist-packages (from gensim>=4.0.0->LibRecommender==1.4.0) (1.11.4)\n",
            "Requirement already satisfied: smart-open>=1.8.1 in /usr/local/lib/python3.10/dist-packages (from gensim>=4.0.0->LibRecommender==1.4.0) (6.4.0)\n",
            "Building wheels for collected packages: LibRecommender\n",
            "  Building wheel for LibRecommender (pyproject.toml) ... \u001b[?25l\u001b[?25hdone\n",
            "  Created wheel for LibRecommender: filename=LibRecommender-1.4.0-cp310-cp310-linux_x86_64.whl size=2095035 sha256=c87e84aceebf15e142c885841408ab222fb8320e4bc1c68f4afea187019f3096\n",
            "  Stored in directory: /tmp/pip-ephem-wheel-cache-qhvu9p7_/wheels/77/1d/d9/4fb4b7f202e80009c1648a4e31c56ec57f28d01b42649b5883\n",
            "Successfully built LibRecommender\n",
            "Installing collected packages: LibRecommender\n",
            "  Attempting uninstall: LibRecommender\n",
            "    Found existing installation: LibRecommender 1.4.0\n",
            "    Uninstalling LibRecommender-1.4.0:\n",
            "      Successfully uninstalled LibRecommender-1.4.0\n",
            "Successfully installed LibRecommender-1.4.0\n"
          ]
        }
      ]
    },
    {
      "cell_type": "code",
      "execution_count": null,
      "metadata": {
        "colab": {
          "base_uri": "https://localhost:8080/"
        },
        "id": "Q2AgRylsdO2V",
        "outputId": "6483daff-80d5-4b0e-a558-4190db73ae33"
      },
      "outputs": [
        {
          "output_type": "stream",
          "name": "stderr",
          "text": [
            "WARNING:tensorflow:From /usr/local/lib/python3.10/dist-packages/tensorflow/python/compat/v2_compat.py:108: disable_resource_variables (from tensorflow.python.ops.variable_scope) is deprecated and will be removed in a future version.\n",
            "Instructions for updating:\n",
            "non-resource variables are not supported in the long term\n"
          ]
        }
      ],
      "source": [
        "import numpy as np\n",
        "import pandas as pd\n",
        "from libreco.data import split_by_ratio_chrono, DatasetFeat\n",
        "from libreco.algorithms import YouTubeRanking  # feat data, algorithm YouTubeRanking"
      ]
    },
    {
      "cell_type": "code",
      "source": [
        "data = pd.read_csv(\"examples/sample_data/sample_movielens_merged.csv\", sep=\",\", header=0)\n",
        "data.head()"
      ],
      "metadata": {
        "colab": {
          "base_uri": "https://localhost:8080/",
          "height": 206
        },
        "id": "tlaB_n5_HJzX",
        "outputId": "8ef6c476-0220-4df7-885f-d7014d8b0f7c"
      },
      "execution_count": null,
      "outputs": [
        {
          "output_type": "execute_result",
          "data": {
            "text/plain": [
              "   user  item  label       time sex  age  occupation  genre1     genre2  \\\n",
              "0  4617   296      2  964138229   F   25           6   crime      drama   \n",
              "1  1298   208      4  974849526   M   35           6  action  adventure   \n",
              "2  4585  1769      4  964322774   M   35           7  action   thriller   \n",
              "3  3706  1136      5  966376465   M   25          12  comedy    missing   \n",
              "4  2137  1215      3  974640099   F    1          10  action  adventure   \n",
              "\n",
              "    genre3  \n",
              "0  missing  \n",
              "1  missing  \n",
              "2  missing  \n",
              "3  missing  \n",
              "4   comedy  "
            ],
            "text/html": [
              "\n",
              "  <div id=\"df-b3584595-3cee-4aa1-9204-637376d6f7b9\" class=\"colab-df-container\">\n",
              "    <div>\n",
              "<style scoped>\n",
              "    .dataframe tbody tr th:only-of-type {\n",
              "        vertical-align: middle;\n",
              "    }\n",
              "\n",
              "    .dataframe tbody tr th {\n",
              "        vertical-align: top;\n",
              "    }\n",
              "\n",
              "    .dataframe thead th {\n",
              "        text-align: right;\n",
              "    }\n",
              "</style>\n",
              "<table border=\"1\" class=\"dataframe\">\n",
              "  <thead>\n",
              "    <tr style=\"text-align: right;\">\n",
              "      <th></th>\n",
              "      <th>user</th>\n",
              "      <th>item</th>\n",
              "      <th>label</th>\n",
              "      <th>time</th>\n",
              "      <th>sex</th>\n",
              "      <th>age</th>\n",
              "      <th>occupation</th>\n",
              "      <th>genre1</th>\n",
              "      <th>genre2</th>\n",
              "      <th>genre3</th>\n",
              "    </tr>\n",
              "  </thead>\n",
              "  <tbody>\n",
              "    <tr>\n",
              "      <th>0</th>\n",
              "      <td>4617</td>\n",
              "      <td>296</td>\n",
              "      <td>2</td>\n",
              "      <td>964138229</td>\n",
              "      <td>F</td>\n",
              "      <td>25</td>\n",
              "      <td>6</td>\n",
              "      <td>crime</td>\n",
              "      <td>drama</td>\n",
              "      <td>missing</td>\n",
              "    </tr>\n",
              "    <tr>\n",
              "      <th>1</th>\n",
              "      <td>1298</td>\n",
              "      <td>208</td>\n",
              "      <td>4</td>\n",
              "      <td>974849526</td>\n",
              "      <td>M</td>\n",
              "      <td>35</td>\n",
              "      <td>6</td>\n",
              "      <td>action</td>\n",
              "      <td>adventure</td>\n",
              "      <td>missing</td>\n",
              "    </tr>\n",
              "    <tr>\n",
              "      <th>2</th>\n",
              "      <td>4585</td>\n",
              "      <td>1769</td>\n",
              "      <td>4</td>\n",
              "      <td>964322774</td>\n",
              "      <td>M</td>\n",
              "      <td>35</td>\n",
              "      <td>7</td>\n",
              "      <td>action</td>\n",
              "      <td>thriller</td>\n",
              "      <td>missing</td>\n",
              "    </tr>\n",
              "    <tr>\n",
              "      <th>3</th>\n",
              "      <td>3706</td>\n",
              "      <td>1136</td>\n",
              "      <td>5</td>\n",
              "      <td>966376465</td>\n",
              "      <td>M</td>\n",
              "      <td>25</td>\n",
              "      <td>12</td>\n",
              "      <td>comedy</td>\n",
              "      <td>missing</td>\n",
              "      <td>missing</td>\n",
              "    </tr>\n",
              "    <tr>\n",
              "      <th>4</th>\n",
              "      <td>2137</td>\n",
              "      <td>1215</td>\n",
              "      <td>3</td>\n",
              "      <td>974640099</td>\n",
              "      <td>F</td>\n",
              "      <td>1</td>\n",
              "      <td>10</td>\n",
              "      <td>action</td>\n",
              "      <td>adventure</td>\n",
              "      <td>comedy</td>\n",
              "    </tr>\n",
              "  </tbody>\n",
              "</table>\n",
              "</div>\n",
              "    <div class=\"colab-df-buttons\">\n",
              "\n",
              "  <div class=\"colab-df-container\">\n",
              "    <button class=\"colab-df-convert\" onclick=\"convertToInteractive('df-b3584595-3cee-4aa1-9204-637376d6f7b9')\"\n",
              "            title=\"Convert this dataframe to an interactive table.\"\n",
              "            style=\"display:none;\">\n",
              "\n",
              "  <svg xmlns=\"http://www.w3.org/2000/svg\" height=\"24px\" viewBox=\"0 -960 960 960\">\n",
              "    <path d=\"M120-120v-720h720v720H120Zm60-500h600v-160H180v160Zm220 220h160v-160H400v160Zm0 220h160v-160H400v160ZM180-400h160v-160H180v160Zm440 0h160v-160H620v160ZM180-180h160v-160H180v160Zm440 0h160v-160H620v160Z\"/>\n",
              "  </svg>\n",
              "    </button>\n",
              "\n",
              "  <style>\n",
              "    .colab-df-container {\n",
              "      display:flex;\n",
              "      gap: 12px;\n",
              "    }\n",
              "\n",
              "    .colab-df-convert {\n",
              "      background-color: #E8F0FE;\n",
              "      border: none;\n",
              "      border-radius: 50%;\n",
              "      cursor: pointer;\n",
              "      display: none;\n",
              "      fill: #1967D2;\n",
              "      height: 32px;\n",
              "      padding: 0 0 0 0;\n",
              "      width: 32px;\n",
              "    }\n",
              "\n",
              "    .colab-df-convert:hover {\n",
              "      background-color: #E2EBFA;\n",
              "      box-shadow: 0px 1px 2px rgba(60, 64, 67, 0.3), 0px 1px 3px 1px rgba(60, 64, 67, 0.15);\n",
              "      fill: #174EA6;\n",
              "    }\n",
              "\n",
              "    .colab-df-buttons div {\n",
              "      margin-bottom: 4px;\n",
              "    }\n",
              "\n",
              "    [theme=dark] .colab-df-convert {\n",
              "      background-color: #3B4455;\n",
              "      fill: #D2E3FC;\n",
              "    }\n",
              "\n",
              "    [theme=dark] .colab-df-convert:hover {\n",
              "      background-color: #434B5C;\n",
              "      box-shadow: 0px 1px 3px 1px rgba(0, 0, 0, 0.15);\n",
              "      filter: drop-shadow(0px 1px 2px rgba(0, 0, 0, 0.3));\n",
              "      fill: #FFFFFF;\n",
              "    }\n",
              "  </style>\n",
              "\n",
              "    <script>\n",
              "      const buttonEl =\n",
              "        document.querySelector('#df-b3584595-3cee-4aa1-9204-637376d6f7b9 button.colab-df-convert');\n",
              "      buttonEl.style.display =\n",
              "        google.colab.kernel.accessAllowed ? 'block' : 'none';\n",
              "\n",
              "      async function convertToInteractive(key) {\n",
              "        const element = document.querySelector('#df-b3584595-3cee-4aa1-9204-637376d6f7b9');\n",
              "        const dataTable =\n",
              "          await google.colab.kernel.invokeFunction('convertToInteractive',\n",
              "                                                    [key], {});\n",
              "        if (!dataTable) return;\n",
              "\n",
              "        const docLinkHtml = 'Like what you see? Visit the ' +\n",
              "          '<a target=\"_blank\" href=https://colab.research.google.com/notebooks/data_table.ipynb>data table notebook</a>'\n",
              "          + ' to learn more about interactive tables.';\n",
              "        element.innerHTML = '';\n",
              "        dataTable['output_type'] = 'display_data';\n",
              "        await google.colab.output.renderOutput(dataTable, element);\n",
              "        const docLink = document.createElement('div');\n",
              "        docLink.innerHTML = docLinkHtml;\n",
              "        element.appendChild(docLink);\n",
              "      }\n",
              "    </script>\n",
              "  </div>\n",
              "\n",
              "\n",
              "<div id=\"df-016d439a-4c27-4948-a897-5e493a229491\">\n",
              "  <button class=\"colab-df-quickchart\" onclick=\"quickchart('df-016d439a-4c27-4948-a897-5e493a229491')\"\n",
              "            title=\"Suggest charts\"\n",
              "            style=\"display:none;\">\n",
              "\n",
              "<svg xmlns=\"http://www.w3.org/2000/svg\" height=\"24px\"viewBox=\"0 0 24 24\"\n",
              "     width=\"24px\">\n",
              "    <g>\n",
              "        <path d=\"M19 3H5c-1.1 0-2 .9-2 2v14c0 1.1.9 2 2 2h14c1.1 0 2-.9 2-2V5c0-1.1-.9-2-2-2zM9 17H7v-7h2v7zm4 0h-2V7h2v10zm4 0h-2v-4h2v4z\"/>\n",
              "    </g>\n",
              "</svg>\n",
              "  </button>\n",
              "\n",
              "<style>\n",
              "  .colab-df-quickchart {\n",
              "      --bg-color: #E8F0FE;\n",
              "      --fill-color: #1967D2;\n",
              "      --hover-bg-color: #E2EBFA;\n",
              "      --hover-fill-color: #174EA6;\n",
              "      --disabled-fill-color: #AAA;\n",
              "      --disabled-bg-color: #DDD;\n",
              "  }\n",
              "\n",
              "  [theme=dark] .colab-df-quickchart {\n",
              "      --bg-color: #3B4455;\n",
              "      --fill-color: #D2E3FC;\n",
              "      --hover-bg-color: #434B5C;\n",
              "      --hover-fill-color: #FFFFFF;\n",
              "      --disabled-bg-color: #3B4455;\n",
              "      --disabled-fill-color: #666;\n",
              "  }\n",
              "\n",
              "  .colab-df-quickchart {\n",
              "    background-color: var(--bg-color);\n",
              "    border: none;\n",
              "    border-radius: 50%;\n",
              "    cursor: pointer;\n",
              "    display: none;\n",
              "    fill: var(--fill-color);\n",
              "    height: 32px;\n",
              "    padding: 0;\n",
              "    width: 32px;\n",
              "  }\n",
              "\n",
              "  .colab-df-quickchart:hover {\n",
              "    background-color: var(--hover-bg-color);\n",
              "    box-shadow: 0 1px 2px rgba(60, 64, 67, 0.3), 0 1px 3px 1px rgba(60, 64, 67, 0.15);\n",
              "    fill: var(--button-hover-fill-color);\n",
              "  }\n",
              "\n",
              "  .colab-df-quickchart-complete:disabled,\n",
              "  .colab-df-quickchart-complete:disabled:hover {\n",
              "    background-color: var(--disabled-bg-color);\n",
              "    fill: var(--disabled-fill-color);\n",
              "    box-shadow: none;\n",
              "  }\n",
              "\n",
              "  .colab-df-spinner {\n",
              "    border: 2px solid var(--fill-color);\n",
              "    border-color: transparent;\n",
              "    border-bottom-color: var(--fill-color);\n",
              "    animation:\n",
              "      spin 1s steps(1) infinite;\n",
              "  }\n",
              "\n",
              "  @keyframes spin {\n",
              "    0% {\n",
              "      border-color: transparent;\n",
              "      border-bottom-color: var(--fill-color);\n",
              "      border-left-color: var(--fill-color);\n",
              "    }\n",
              "    20% {\n",
              "      border-color: transparent;\n",
              "      border-left-color: var(--fill-color);\n",
              "      border-top-color: var(--fill-color);\n",
              "    }\n",
              "    30% {\n",
              "      border-color: transparent;\n",
              "      border-left-color: var(--fill-color);\n",
              "      border-top-color: var(--fill-color);\n",
              "      border-right-color: var(--fill-color);\n",
              "    }\n",
              "    40% {\n",
              "      border-color: transparent;\n",
              "      border-right-color: var(--fill-color);\n",
              "      border-top-color: var(--fill-color);\n",
              "    }\n",
              "    60% {\n",
              "      border-color: transparent;\n",
              "      border-right-color: var(--fill-color);\n",
              "    }\n",
              "    80% {\n",
              "      border-color: transparent;\n",
              "      border-right-color: var(--fill-color);\n",
              "      border-bottom-color: var(--fill-color);\n",
              "    }\n",
              "    90% {\n",
              "      border-color: transparent;\n",
              "      border-bottom-color: var(--fill-color);\n",
              "    }\n",
              "  }\n",
              "</style>\n",
              "\n",
              "  <script>\n",
              "    async function quickchart(key) {\n",
              "      const quickchartButtonEl =\n",
              "        document.querySelector('#' + key + ' button');\n",
              "      quickchartButtonEl.disabled = true;  // To prevent multiple clicks.\n",
              "      quickchartButtonEl.classList.add('colab-df-spinner');\n",
              "      try {\n",
              "        const charts = await google.colab.kernel.invokeFunction(\n",
              "            'suggestCharts', [key], {});\n",
              "      } catch (error) {\n",
              "        console.error('Error during call to suggestCharts:', error);\n",
              "      }\n",
              "      quickchartButtonEl.classList.remove('colab-df-spinner');\n",
              "      quickchartButtonEl.classList.add('colab-df-quickchart-complete');\n",
              "    }\n",
              "    (() => {\n",
              "      let quickchartButtonEl =\n",
              "        document.querySelector('#df-016d439a-4c27-4948-a897-5e493a229491 button');\n",
              "      quickchartButtonEl.style.display =\n",
              "        google.colab.kernel.accessAllowed ? 'block' : 'none';\n",
              "    })();\n",
              "  </script>\n",
              "</div>\n",
              "    </div>\n",
              "  </div>\n"
            ],
            "application/vnd.google.colaboratory.intrinsic+json": {
              "type": "dataframe",
              "variable_name": "data"
            }
          },
          "metadata": {},
          "execution_count": 5
        }
      ]
    },
    {
      "cell_type": "code",
      "source": [
        "# split into train and test data based on time\n",
        "train_data, test_data = split_by_ratio_chrono(data, test_size=0.2)"
      ],
      "metadata": {
        "id": "YQd_OCkSHQFI"
      },
      "execution_count": null,
      "outputs": []
    },
    {
      "cell_type": "code",
      "source": [
        "# specify complete columns information\n",
        "sparse_col = [\"sex\", \"occupation\", \"genre1\", \"genre2\", \"genre3\"]\n",
        "dense_col = [\"age\"]\n",
        "user_col = [\"sex\", \"age\", \"occupation\"]\n",
        "item_col = [\"genre1\", \"genre2\", \"genre3\"]"
      ],
      "metadata": {
        "id": "pkCfwlBoHTnr"
      },
      "execution_count": null,
      "outputs": []
    },
    {
      "cell_type": "code",
      "source": [
        "train_data, data_info = DatasetFeat.build_trainset(\n",
        "    train_data, user_col, item_col, sparse_col, dense_col\n",
        ")\n",
        "test_data = DatasetFeat.build_testset(test_data)\n",
        "print(data_info)  # n_users: 5962, n_items: 3226, data sparsity: 0.4185 %"
      ],
      "metadata": {
        "colab": {
          "base_uri": "https://localhost:8080/"
        },
        "id": "X6cZskUFHX3B",
        "outputId": "56244bc6-746f-4f96-fa6e-6e3104804c70"
      },
      "execution_count": null,
      "outputs": [
        {
          "output_type": "stream",
          "name": "stdout",
          "text": [
            "n_users: 5953, n_items: 3209, data density: 0.4213 %\n"
          ]
        }
      ]
    },
    {
      "cell_type": "code",
      "source": [
        "ytb_ranking = YouTubeRanking(\n",
        "    task=\"ranking\",\n",
        "    data_info=data_info,\n",
        "    embed_size=16,\n",
        "    n_epochs=3,\n",
        "    lr=1e-4,\n",
        "    batch_size=512,\n",
        "    use_bn=True,\n",
        "    hidden_units=(128, 64, 32),\n",
        ")\n",
        "ytb_ranking.fit(\n",
        "    train_data,\n",
        "    neg_sampling=True,\n",
        "    verbose=2,\n",
        "    shuffle=True,\n",
        "    eval_data=test_data,\n",
        "    metrics=[\"loss\", \"roc_auc\", \"precision\", \"recall\", \"map\", \"ndcg\"],\n",
        ")"
      ],
      "metadata": {
        "colab": {
          "base_uri": "https://localhost:8080/"
        },
        "id": "RdV7AttPHxNS",
        "outputId": "83df3c52-e2db-465a-c5ad-26c53085c8fa"
      },
      "execution_count": null,
      "outputs": [
        {
          "output_type": "stream",
          "name": "stdout",
          "text": [
            "Training start time: \u001b[35m2024-02-14 11:32:48\u001b[0m\n"
          ]
        },
        {
          "output_type": "stream",
          "name": "stderr",
          "text": [
            "/content/LibRecommender/libreco/layers/dense.py:31: UserWarning: `tf.layers.batch_normalization` is deprecated and will be removed in a future version. Please use `tf.keras.layers.BatchNormalization` instead. In particular, `tf.control_dependencies(tf.GraphKeys.UPDATE_OPS)` should not be used (consult the `tf.keras.layers.BatchNormalization` documentation).\n",
            "  net = tf.layers.batch_normalization(net, training=is_training)\n",
            "WARNING:tensorflow:From /usr/local/lib/python3.10/dist-packages/keras/src/layers/normalization/batch_normalization.py:883: _colocate_with (from tensorflow.python.framework.ops) is deprecated and will be removed in a future version.\n",
            "Instructions for updating:\n",
            "Colocations handled automatically by placer.\n",
            "/content/LibRecommender/libreco/layers/dense.py:39: UserWarning: `tf.layers.batch_normalization` is deprecated and will be removed in a future version. Please use `tf.keras.layers.BatchNormalization` instead. In particular, `tf.control_dependencies(tf.GraphKeys.UPDATE_OPS)` should not be used (consult the `tf.keras.layers.BatchNormalization` documentation).\n",
            "  net = tf.layers.batch_normalization(net, training=is_training)\n"
          ]
        },
        {
          "output_type": "stream",
          "name": "stdout",
          "text": [
            "total params: \u001b[33m177,521\u001b[0m | embedding params: \u001b[33m148,145\u001b[0m | network params: \u001b[33m29,376\u001b[0m\n"
          ]
        },
        {
          "output_type": "stream",
          "name": "stderr",
          "text": [
            "train: 100%|██████████| 315/315 [00:06<00:00, 46.78it/s]\n"
          ]
        },
        {
          "output_type": "stream",
          "name": "stdout",
          "text": [
            "Epoch 1 elapsed: 6.745s\n",
            "\t \u001b[32mtrain_loss: 0.6981\u001b[0m\n"
          ]
        },
        {
          "output_type": "stream",
          "name": "stderr",
          "text": [
            "eval_pointwise: 100%|██████████| 5/5 [00:00<00:00, 12.69it/s]\n",
            "eval_listwise: 100%|██████████| 2446/2446 [01:45<00:00, 23.24it/s]\n"
          ]
        },
        {
          "output_type": "stream",
          "name": "stdout",
          "text": [
            "\t eval log_loss: 0.6788\n",
            "\t eval roc_auc: 0.5961\n",
            "\t eval precision@10: 0.0029\n",
            "\t eval recall@10: 0.0093\n",
            "\t eval map@10: 0.0078\n",
            "\t eval ndcg@10: 0.0126\n",
            "==============================\n"
          ]
        },
        {
          "output_type": "stream",
          "name": "stderr",
          "text": [
            "train: 100%|██████████| 315/315 [00:07<00:00, 39.81it/s]\n"
          ]
        },
        {
          "output_type": "stream",
          "name": "stdout",
          "text": [
            "Epoch 2 elapsed: 7.933s\n",
            "\t \u001b[32mtrain_loss: 0.6342\u001b[0m\n"
          ]
        },
        {
          "output_type": "stream",
          "name": "stderr",
          "text": [
            "eval_pointwise: 100%|██████████| 5/5 [00:00<00:00, 17.52it/s]\n",
            "eval_listwise: 100%|██████████| 2446/2446 [01:23<00:00, 29.13it/s]\n"
          ]
        },
        {
          "output_type": "stream",
          "name": "stdout",
          "text": [
            "\t eval log_loss: 0.6521\n",
            "\t eval roc_auc: 0.6646\n",
            "\t eval precision@10: 0.0039\n",
            "\t eval recall@10: 0.0135\n",
            "\t eval map@10: 0.0107\n",
            "\t eval ndcg@10: 0.0171\n",
            "==============================\n"
          ]
        },
        {
          "output_type": "stream",
          "name": "stderr",
          "text": [
            "train: 100%|██████████| 315/315 [00:03<00:00, 81.28it/s]\n"
          ]
        },
        {
          "output_type": "stream",
          "name": "stdout",
          "text": [
            "Epoch 3 elapsed: 3.886s\n",
            "\t \u001b[32mtrain_loss: 0.5792\u001b[0m\n"
          ]
        },
        {
          "output_type": "stream",
          "name": "stderr",
          "text": [
            "eval_pointwise: 100%|██████████| 5/5 [00:00<00:00, 19.74it/s]\n",
            "eval_listwise: 100%|██████████| 2446/2446 [00:56<00:00, 43.49it/s]\n"
          ]
        },
        {
          "output_type": "stream",
          "name": "stdout",
          "text": [
            "\t eval log_loss: 0.6224\n",
            "\t eval roc_auc: 0.7208\n",
            "\t eval precision@10: 0.0050\n",
            "\t eval recall@10: 0.0193\n",
            "\t eval map@10: 0.0147\n",
            "\t eval ndcg@10: 0.0225\n",
            "==============================\n"
          ]
        }
      ]
    },
    {
      "cell_type": "code",
      "source": [
        "# predict preference of user 2211 to item 110\n",
        "ytb_ranking.predict(user=2211, item=110)"
      ],
      "metadata": {
        "colab": {
          "base_uri": "https://localhost:8080/"
        },
        "id": "8n8ZzpWEIf5t",
        "outputId": "2221a371-15f1-4a79-f2ba-6255c6ec26ad"
      },
      "execution_count": null,
      "outputs": [
        {
          "output_type": "execute_result",
          "data": {
            "text/plain": [
              "array([0.8145978], dtype=float32)"
            ]
          },
          "metadata": {},
          "execution_count": 10
        }
      ]
    },
    {
      "cell_type": "markdown",
      "source": [
        "## Recommend to user 2211 with diff params"
      ],
      "metadata": {
        "id": "5VbgsNOQJZ_J"
      }
    },
    {
      "cell_type": "code",
      "source": [
        "# recommend 7 items for user 2211\n",
        "ytb_ranking.recommend_user(user=2211, n_rec=7)"
      ],
      "metadata": {
        "colab": {
          "base_uri": "https://localhost:8080/"
        },
        "id": "gAFtkVelIlZt",
        "outputId": "2ddd9d9e-3ca0-4def-9f02-f54c4c478f08"
      },
      "execution_count": null,
      "outputs": [
        {
          "output_type": "execute_result",
          "data": {
            "text/plain": [
              "{2211: array([ 527, 1270, 2716, 1294,  541, 2944,  260])}"
            ]
          },
          "metadata": {},
          "execution_count": 11
        }
      ]
    },
    {
      "cell_type": "code",
      "source": [
        "ytb_ranking.recommend_user(user=2211, n_rec=7, cold_start=\"popular\")"
      ],
      "metadata": {
        "colab": {
          "base_uri": "https://localhost:8080/"
        },
        "id": "p54xi6qtIyLD",
        "outputId": "039e3fe0-9639-4221-95c4-15cb3796e931"
      },
      "execution_count": null,
      "outputs": [
        {
          "output_type": "execute_result",
          "data": {
            "text/plain": [
              "{2211: array([ 527, 1270, 2716, 1294,  541, 2944,  260])}"
            ]
          },
          "metadata": {},
          "execution_count": 12
        }
      ]
    },
    {
      "cell_type": "code",
      "source": [
        "ytb_ranking.recommend_user(user=2211, n_rec=7, cold_start=\"average\")"
      ],
      "metadata": {
        "colab": {
          "base_uri": "https://localhost:8080/"
        },
        "id": "fTLwe48aJNIN",
        "outputId": "f0e25348-a2bb-4e38-aab3-605797d3328d"
      },
      "execution_count": null,
      "outputs": [
        {
          "output_type": "execute_result",
          "data": {
            "text/plain": [
              "{2211: array([ 527, 1270, 2716, 1294,  541, 2944,  260])}"
            ]
          },
          "metadata": {},
          "execution_count": 13
        }
      ]
    },
    {
      "cell_type": "code",
      "source": [
        "ytb_ranking.recommend_user(user=2211, n_rec=7, cold_start=\"popular\", filter_consumed=True)"
      ],
      "metadata": {
        "colab": {
          "base_uri": "https://localhost:8080/"
        },
        "id": "PO2JeV01ZIpz",
        "outputId": "0f7a40d6-1631-4b60-f668-79f56cdaf6a3"
      },
      "execution_count": null,
      "outputs": [
        {
          "output_type": "execute_result",
          "data": {
            "text/plain": [
              "{2211: array([ 527, 1270, 2716, 1294,  541, 2944,  260])}"
            ]
          },
          "metadata": {},
          "execution_count": 18
        }
      ]
    },
    {
      "cell_type": "markdown",
      "source": [
        "## Recommend to user 1121 with diff params"
      ],
      "metadata": {
        "id": "CzjioruAJjQ_"
      }
    },
    {
      "cell_type": "code",
      "source": [
        "ytb_ranking.recommend_user(user=1121, n_rec=7, cold_start=\"popular\")"
      ],
      "metadata": {
        "colab": {
          "base_uri": "https://localhost:8080/"
        },
        "id": "nQWHYA7GJQf2",
        "outputId": "cf82942e-7b3f-4231-be66-72c9d5a78317"
      },
      "execution_count": null,
      "outputs": [
        {
          "output_type": "execute_result",
          "data": {
            "text/plain": [
              "{1121: array([ 589,  527, 1240, 2571, 1270, 1196, 1193])}"
            ]
          },
          "metadata": {},
          "execution_count": 14
        }
      ]
    },
    {
      "cell_type": "code",
      "source": [
        "ytb_ranking.recommend_user(user=1121, n_rec=7, cold_start=\"average\")"
      ],
      "metadata": {
        "colab": {
          "base_uri": "https://localhost:8080/"
        },
        "id": "SbcWXvOBJTvY",
        "outputId": "73941554-cf7a-48f7-fa96-55c29a840b12"
      },
      "execution_count": null,
      "outputs": [
        {
          "output_type": "execute_result",
          "data": {
            "text/plain": [
              "{1121: array([ 589,  527, 1240, 2571, 1270, 1196, 1193])}"
            ]
          },
          "metadata": {},
          "execution_count": 15
        }
      ]
    },
    {
      "cell_type": "code",
      "source": [
        "# cold-start prediction\n",
        "ytb_ranking.predict(user=\"ccc\", item=\"not item\", cold_start=\"average\")"
      ],
      "metadata": {
        "colab": {
          "base_uri": "https://localhost:8080/"
        },
        "id": "cGcddjYLIomC",
        "outputId": "2da0fe74-1464-4644-b264-237f6813e1b4"
      },
      "execution_count": null,
      "outputs": [
        {
          "output_type": "stream",
          "name": "stdout",
          "text": [
            "\u001b[31mDetect 1 unknown interaction(s), position: [0]\u001b[0m\n"
          ]
        },
        {
          "output_type": "execute_result",
          "data": {
            "text/plain": [
              "array([0.76414376], dtype=float32)"
            ]
          },
          "metadata": {},
          "execution_count": 19
        }
      ]
    },
    {
      "cell_type": "code",
      "source": [
        "# cold-start recommendation\n",
        "ytb_ranking.recommend_user(user=\"are we good?\", n_rec=7, cold_start=\"popular\")"
      ],
      "metadata": {
        "colab": {
          "base_uri": "https://localhost:8080/"
        },
        "id": "MI6gTDJsIrjK",
        "outputId": "9fe53587-28a4-4599-d87a-1e8f8d471b6b"
      },
      "execution_count": null,
      "outputs": [
        {
          "output_type": "stream",
          "name": "stdout",
          "text": [
            "\u001b[31mDetect unknown user: are we good?\u001b[0m\n"
          ]
        },
        {
          "output_type": "execute_result",
          "data": {
            "text/plain": [
              "{'are we good?': array([ 480, 1573,   50, 1193, 1193, 1393,  480])}"
            ]
          },
          "metadata": {},
          "execution_count": 17
        }
      ]
    }
  ]
}