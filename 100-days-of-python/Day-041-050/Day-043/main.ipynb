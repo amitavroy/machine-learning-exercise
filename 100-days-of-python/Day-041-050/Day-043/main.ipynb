{
 "cells": [
  {
   "cell_type": "code",
   "execution_count": 1,
   "metadata": {},
   "outputs": [],
   "source": [
    "from transformers import pipeline"
   ]
  },
  {
   "cell_type": "code",
   "execution_count": 2,
   "metadata": {},
   "outputs": [],
   "source": [
    "model_name = \"deepset/roberta-base-squad2\""
   ]
  },
  {
   "cell_type": "code",
   "execution_count": 3,
   "metadata": {},
   "outputs": [
    {
     "data": {
      "application/vnd.jupyter.widget-view+json": {
       "model_id": "a86d73a1d8914ea69dfd5182b6c25ae3",
       "version_major": 2,
       "version_minor": 0
      },
      "text/plain": [
       "Downloading config.json:   0%|          | 0.00/571 [00:00<?, ?B/s]"
      ]
     },
     "metadata": {},
     "output_type": "display_data"
    },
    {
     "data": {
      "application/vnd.jupyter.widget-view+json": {
       "model_id": "7e446bea38c246088e5ebea9070af4b8",
       "version_major": 2,
       "version_minor": 0
      },
      "text/plain": [
       "Downloading model.safetensors:   0%|          | 0.00/496M [00:00<?, ?B/s]"
      ]
     },
     "metadata": {},
     "output_type": "display_data"
    },
    {
     "name": "stderr",
     "output_type": "stream",
     "text": [
      "Some weights of the PyTorch model were not used when initializing the TF 2.0 model TFRobertaForQuestionAnswering: ['roberta.embeddings.position_ids']\n",
      "- This IS expected if you are initializing TFRobertaForQuestionAnswering from a PyTorch model trained on another task or with another architecture (e.g. initializing a TFBertForSequenceClassification model from a BertForPreTraining model).\n",
      "- This IS NOT expected if you are initializing TFRobertaForQuestionAnswering from a PyTorch model that you expect to be exactly identical (e.g. initializing a TFBertForSequenceClassification model from a BertForSequenceClassification model).\n",
      "All the weights of TFRobertaForQuestionAnswering were initialized from the PyTorch model.\n",
      "If your task is similar to the task the model of the checkpoint was trained on, you can already use TFRobertaForQuestionAnswering for predictions without further training.\n"
     ]
    },
    {
     "data": {
      "application/vnd.jupyter.widget-view+json": {
       "model_id": "6f1cb22f202844f2805ffe2139e68477",
       "version_major": 2,
       "version_minor": 0
      },
      "text/plain": [
       "Downloading tokenizer_config.json:   0%|          | 0.00/79.0 [00:00<?, ?B/s]"
      ]
     },
     "metadata": {},
     "output_type": "display_data"
    },
    {
     "data": {
      "application/vnd.jupyter.widget-view+json": {
       "model_id": "b5e40ace31a044c9b8793480c053cc12",
       "version_major": 2,
       "version_minor": 0
      },
      "text/plain": [
       "Downloading vocab.json:   0%|          | 0.00/899k [00:00<?, ?B/s]"
      ]
     },
     "metadata": {},
     "output_type": "display_data"
    },
    {
     "data": {
      "application/vnd.jupyter.widget-view+json": {
       "model_id": "61360ae306bd4ee88e6bc27fccde3759",
       "version_major": 2,
       "version_minor": 0
      },
      "text/plain": [
       "Downloading merges.txt:   0%|          | 0.00/456k [00:00<?, ?B/s]"
      ]
     },
     "metadata": {},
     "output_type": "display_data"
    },
    {
     "data": {
      "application/vnd.jupyter.widget-view+json": {
       "model_id": "350b9f9a0e6b4792b1790e0159f6614f",
       "version_major": 2,
       "version_minor": 0
      },
      "text/plain": [
       "Downloading (…)cial_tokens_map.json:   0%|          | 0.00/772 [00:00<?, ?B/s]"
      ]
     },
     "metadata": {},
     "output_type": "display_data"
    }
   ],
   "source": [
    "nlp = pipeline(\"question-answering\", model=model_name, tokenizer=model_name)"
   ]
  },
  {
   "cell_type": "code",
   "execution_count": 4,
   "metadata": {},
   "outputs": [],
   "source": [
    "QA_input = {\n",
    "    \"question\": \"Why is model conversion important?\",\n",
    "    \"context\": \"The option to convert models between FARM and transformers gives freedom to the user and lets people easily switch between frameworks.\",\n",
    "}"
   ]
  },
  {
   "cell_type": "code",
   "execution_count": 5,
   "metadata": {},
   "outputs": [],
   "source": [
    "answer = nlp(QA_input)[\"answer\"]"
   ]
  },
  {
   "cell_type": "code",
   "execution_count": 6,
   "metadata": {},
   "outputs": [
    {
     "name": "stdout",
     "output_type": "stream",
     "text": [
      "Question: Why is model conversion important?\n",
      "Answer: gives freedom to the user and lets people easily switch between frameworks\n"
     ]
    }
   ],
   "source": [
    "print(f\"Question: {QA_input['question']}\")\n",
    "print(f\"Answer: {answer}\")"
   ]
  },
  {
   "cell_type": "code",
   "execution_count": 13,
   "metadata": {},
   "outputs": [],
   "source": [
    "doc = \"\"\"\n",
    "Laravel is a web application framework with expressive, elegant syntax. A web framework provides a structure and starting point for creating your application, allowing you to focus on creating something amazing while we sweat the details.\n",
    "\n",
    "Laravel strives to provide an amazing developer experience while providing powerful features such as thorough dependency injection, an expressive database abstraction layer, queues and scheduled jobs, unit and integration testing, and more.\n",
    "\n",
    "Whether you are new to PHP web frameworks or have years of experience, Laravel is a framework that can grow with you. We'll help you take your first steps as a web developer or give you a boost as you take your expertise to the next level. We can't wait to see what you build.\n",
    "\n",
    "Why Laravel?\n",
    "There are a variety of tools and frameworks available to you when building a web application. However, we believe Laravel is the best choice for building modern, full-stack web applications.\n",
    "\n",
    "A Progressive Framework\n",
    "We like to call Laravel a \"progressive\" framework. By that, we mean that Laravel grows with you. If you're just taking your first steps into web development, Laravel's vast library of documentation, guides, and video tutorials will help you learn the ropes without becoming overwhelmed.\n",
    "\n",
    "If you're a senior developer, Laravel gives you robust tools for dependency injection, unit testing, queues, real-time events, and more. Laravel is fine-tuned for building professional web applications and ready to handle enterprise work loads.\n",
    "\n",
    "A Scalable Framework\n",
    "Laravel is incredibly scalable. Thanks to the scaling-friendly nature of PHP and Laravel's built-in support for fast, distributed cache systems like Redis, horizontal scaling with Laravel is a breeze. In fact, Laravel applications have been easily scaled to handle hundreds of millions of requests per month.\n",
    "\n",
    "Need extreme scaling? Platforms like Laravel Vapor allow you to run your Laravel application at nearly limitless scale on AWS's latest serverless technology.\n",
    "\n",
    "A Community Framework\n",
    "Laravel combines the best packages in the PHP ecosystem to offer the most robust and developer friendly framework available. In addition, thousands of talented developers from around the world have contributed to the framework. Who knows, maybe you'll even become a Laravel contributor.\n",
    "\"\"\""
   ]
  },
  {
   "cell_type": "code",
   "execution_count": 8,
   "metadata": {},
   "outputs": [
    {
     "name": "stdout",
     "output_type": "stream",
     "text": [
      "Question: Why we should use Laravel?\n",
      "Answer: Laravel is the best choice for building modern, full-stack web applications\n"
     ]
    }
   ],
   "source": [
    "QA_input = {\n",
    "    \"question\": \"Why we should use Laravel?\",\n",
    "    \"context\": doc,\n",
    "}\n",
    "\n",
    "answer = nlp(QA_input)[\"answer\"]\n",
    "\n",
    "print(f\"Question: {QA_input['question']}\")\n",
    "print(f\"Answer: {answer}\")"
   ]
  },
  {
   "cell_type": "code",
   "execution_count": 14,
   "metadata": {},
   "outputs": [],
   "source": [
    "doc = doc + \"\"\"\n",
    "Service providers are the central place of all Laravel application bootstrapping. Your own application, as well as all of Laravel's core services, are bootstrapped via service providers.\n",
    "\n",
    "But, what do we mean by \"bootstrapped\"? In general, we mean registering things, including registering service container bindings, event listeners, middleware, and even routes. Service providers are the central place to configure your application.\n",
    "\n",
    "If you open the config/app.php file included with Laravel, you will see a providers array. These are all of the service provider classes that will be loaded for your application. By default, a set of Laravel core service providers are listed in this array. These providers bootstrap the core Laravel components, such as the mailer, queue, cache, and others. Many of these providers are \"deferred\" providers, meaning they will not be loaded on every request, but only when the services they provide are actually needed.\n",
    "\n",
    "In this overview, you will learn how to write your own service providers and register them with your Laravel application.\n",
    "\n",
    "Writing Service Providers\n",
    "All service providers extend the Illuminate\\Support\\ServiceProvider class. Most service providers contain a register and a boot method. Within the register method, you should only bind things into the service container. You should never attempt to register any event listeners, routes, or any other piece of functionality within the register method.\n",
    "\n",
    "The Artisan CLI can generate a new provider via the make:provider command:\n",
    "\n",
    "php artisan make:provider RiakServiceProvider\n",
    "\n",
    "The Register Method\n",
    "As mentioned previously, within the register method, you should only bind things into the service container. You should never attempt to register any event listeners, routes, or any other piece of functionality within the register method. Otherwise, you may accidentally use a service that is provided by a service provider which has not loaded yet.\n",
    "\n",
    "Let's take a look at a basic service provider. Within any of your service provider methods, you always have access to the $app property which provides access to the service container:\n",
    "\n",
    "<?php\n",
    " \n",
    "namespace App\\Providers;\n",
    " \n",
    "use App\\Services\\Riak\\Connection;\n",
    "use Illuminate\\Contracts\\Foundation\\Application;\n",
    "use Illuminate\\Support\\ServiceProvider;\n",
    " \n",
    "class RiakServiceProvider extends ServiceProvider\n",
    "{\n",
    "    /**\n",
    "     * Register any application services.\n",
    "     */\n",
    "    public function register(): void\n",
    "    {\n",
    "        $this->app->singleton(Connection::class, function (Application $app) {\n",
    "            return new Connection(config('riak'));\n",
    "        });\n",
    "    }\n",
    "}\n",
    "\n",
    "This service provider only defines a register method, and uses that method to define an implementation of App\\Services\\Riak\\Connection in the service container. If you're not yet familiar with Laravel's service container, check out its documentation.\n",
    "\n",
    "The bindings and singletons Properties\n",
    "If your service provider registers many simple bindings, you may wish to use the bindings and singletons properties instead of manually registering each container binding. When the service provider is loaded by the framework, it will automatically check for these properties and register their bindings:\n",
    "\n",
    "<?php\n",
    " \n",
    "namespace App\\Providers;\n",
    " \n",
    "use App\\Contracts\\DowntimeNotifier;\n",
    "use App\\Contracts\\ServerProvider;\n",
    "use App\\Services\\DigitalOceanServerProvider;\n",
    "use App\\Services\\PingdomDowntimeNotifier;\n",
    "use App\\Services\\ServerToolsProvider;\n",
    "use Illuminate\\Support\\ServiceProvider;\n",
    " \n",
    "class AppServiceProvider extends ServiceProvider\n",
    "{\n",
    "    /**\n",
    "     * All of the container bindings that should be registered.\n",
    "     *\n",
    "     * @var array\n",
    "     */\n",
    "    public $bindings = [\n",
    "        ServerProvider::class => DigitalOceanServerProvider::class,\n",
    "    ];\n",
    " \n",
    "    /**\n",
    "     * All of the container singletons that should be registered.\n",
    "     *\n",
    "     * @var array\n",
    "     */\n",
    "    public $singletons = [\n",
    "        DowntimeNotifier::class => PingdomDowntimeNotifier::class,\n",
    "        ServerProvider::class => ServerToolsProvider::class,\n",
    "    ];\n",
    "}\n",
    "\n",
    "The Boot Method\n",
    "So, what if we need to register a view composer within our service provider? This should be done within the boot method. This method is called after all other service providers have been registered, meaning you have access to all other services that have been registered by the framework:\n",
    "\n",
    "<?php\n",
    " \n",
    "namespace App\\Providers;\n",
    " \n",
    "use Illuminate\\Support\\Facades\\View;\n",
    "use Illuminate\\Support\\ServiceProvider;\n",
    " \n",
    "class ComposerServiceProvider extends ServiceProvider\n",
    "{\n",
    "    /**\n",
    "     * Bootstrap any application services.\n",
    "     */\n",
    "    public function boot(): void\n",
    "    {\n",
    "        View::composer('view', function () {\n",
    "            // ...\n",
    "        });\n",
    "    }\n",
    "}\n",
    "\n",
    "Boot Method Dependency Injection\n",
    "You may type-hint dependencies for your service provider's boot method. The service container will automatically inject any dependencies you need:\n",
    "\n",
    "Registering Providers\n",
    "All service providers are registered in the config/app.php configuration file. This file contains a providers array where you can list the class names of your service providers. By default, a set of Laravel core service providers are registered in this array. The default providers bootstrap the core Laravel components, such as the mailer, queue, cache, and others.\n",
    "\n",
    "To register your provider, add it to the array:\n",
    "\n",
    "Deferred Providers\n",
    "If your provider is only registering bindings in the service container, you may choose to defer its registration until one of the registered bindings is actually needed. Deferring the loading of such a provider will improve the performance of your application, since it is not loaded from the filesystem on every request.\n",
    "\n",
    "Laravel compiles and stores a list of all of the services supplied by deferred service providers, along with the name of its service provider class. Then, only when you attempt to resolve one of these services does Laravel load the service provider.\n",
    "\n",
    "To defer the loading of a provider, implement the \\Illuminate\\Contracts\\Support\\DeferrableProvider interface and define a provides method. The provides method should return the service container bindings registered by the provider:\n",
    "\"\"\""
   ]
  },
  {
   "cell_type": "code",
   "execution_count": 19,
   "metadata": {},
   "outputs": [],
   "source": [
    "QA_input = {\n",
    "    \"question\": \"how to register a Laravel service provider?\",\n",
    "    \"context\": doc,\n",
    "}\n",
    "\n",
    "answer = nlp(QA_input)[\"answer\"]\n",
    "\n",
    "print(f\"Question: {QA_input['question']}\")\n",
    "print(f\"Answer: {answer}\")"
   ]
  }
 ],
 "metadata": {
  "kernelspec": {
   "display_name": "base",
   "language": "python",
   "name": "python3"
  },
  "language_info": {
   "codemirror_mode": {
    "name": "ipython",
    "version": 3
   },
   "file_extension": ".py",
   "mimetype": "text/x-python",
   "name": "python",
   "nbconvert_exporter": "python",
   "pygments_lexer": "ipython3",
   "version": "3.11.5"
  }
 },
 "nbformat": 4,
 "nbformat_minor": 2
}
