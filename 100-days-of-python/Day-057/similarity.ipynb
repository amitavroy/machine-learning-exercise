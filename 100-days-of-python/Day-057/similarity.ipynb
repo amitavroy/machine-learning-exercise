{
 "cells": [
  {
   "cell_type": "code",
   "execution_count": 1,
   "metadata": {},
   "outputs": [],
   "source": [
    "a = \"In the dynamic realm of web development, PHP continues to evolve, constantly bringing forth a wave of intriguing updates that reshape the landscape for developers and businesses alike. Amidst this transformative journey, one term has been gaining traction and curiosity—FrankenPHP.\"\n",
    "\n",
    "b = \"Let's talk about the future of software development—low-code solutions. In an era where no-code solutions are gaining ground and rapidly evolving, low-code still holds a significant share of the market. Why, you might wonder? Well, both have their unique strengths. No-code platforms offer the speedy creation of prototypes, allowing you to bring your ideas to life in no time. But, it's important to note that they come with their set of concerns, such as potential vendor lock-ins and certain limitations lurking beneath the surface.\"\n",
    "\n",
    "c = \"Next.js Incremental Static Generation (ISR) is an innovative feature that supercharges your web application's performance. In this comprehensive guide, you'll dive into ISR's power, understanding how to combine Static Site Generation (SSG) and Server-Side Rendering (SSR) for lightning-fast web experiences. Discover the benefits, from rapid page loads to SEO advantages. With real-world use cases, optimization tips, and troubleshooting insights, this guide equips readers to harness ISR's full potential, transforming the way they build dynamic web applications.\""
   ]
  },
  {
   "cell_type": "markdown",
   "metadata": {},
   "source": [
    "# Trying Jacarrd similarity"
   ]
  },
  {
   "cell_type": "code",
   "execution_count": 19,
   "metadata": {},
   "outputs": [],
   "source": [
    "def jacarrd(x: str, y: str, word: bool = False):\n",
    "    # convert the string to set\n",
    "    if word:\n",
    "        x = set(x)\n",
    "        y = set(y)\n",
    "    else:\n",
    "        x = set(x.split())\n",
    "        y = set(y.split())\n",
    "\n",
    "    # calculate)\n",
    "    shared = x.intersection(y)\n",
    "    union = x.union(y)\n",
    "    \n",
    "    return len(shared) / len(union)"
   ]
  },
  {
   "cell_type": "code",
   "execution_count": 13,
   "metadata": {},
   "outputs": [
    {
     "data": {
      "text/plain": [
       "0.25"
      ]
     },
     "execution_count": 13,
     "metadata": {},
     "output_type": "execute_result"
    }
   ],
   "source": [
    "jacarrd(\"1 2 3\", \"2 4\")"
   ]
  },
  {
   "cell_type": "code",
   "execution_count": 9,
   "metadata": {},
   "outputs": [
    {
     "data": {
      "text/plain": [
       "0.0784313725490196"
      ]
     },
     "execution_count": 9,
     "metadata": {},
     "output_type": "execute_result"
    }
   ],
   "source": [
    "jacarrd(a, b)"
   ]
  },
  {
   "cell_type": "code",
   "execution_count": 18,
   "metadata": {},
   "outputs": [
    {
     "name": "stdout",
     "output_type": "stream",
     "text": [
      "{'v', 'n', 'm', 'i', 'A', 'a', 't', 'r'}\n"
     ]
    },
    {
     "data": {
      "text/plain": [
       "0.375"
      ]
     },
     "execution_count": 18,
     "metadata": {},
     "output_type": "execute_result"
    }
   ],
   "source": [
    "jacarrd(\"Amitav\", \"Arnav\", word=True)"
   ]
  },
  {
   "cell_type": "markdown",
   "metadata": {},
   "source": [
    "# Trying w-shingling"
   ]
  },
  {
   "cell_type": "code",
   "execution_count": 20,
   "metadata": {},
   "outputs": [],
   "source": [
    "a = a.split()"
   ]
  },
  {
   "cell_type": "code",
   "execution_count": 29,
   "metadata": {},
   "outputs": [
    {
     "data": {
      "text/plain": [
       "{'Amidst this',\n",
       " 'In the',\n",
       " 'PHP continues',\n",
       " 'a wave',\n",
       " 'alike. Amidst',\n",
       " 'and businesses',\n",
       " 'and curiosity—FrankenPHP.',\n",
       " 'been gaining',\n",
       " 'bringing forth',\n",
       " 'businesses alike.',\n",
       " 'constantly bringing',\n",
       " 'continues to',\n",
       " 'developers and',\n",
       " 'development, PHP',\n",
       " 'dynamic realm',\n",
       " 'evolve, constantly',\n",
       " 'for developers',\n",
       " 'forth a',\n",
       " 'gaining traction',\n",
       " 'has been',\n",
       " 'intriguing updates',\n",
       " 'journey, one',\n",
       " 'landscape for',\n",
       " 'of intriguing',\n",
       " 'of web',\n",
       " 'one term',\n",
       " 'realm of',\n",
       " 'reshape the',\n",
       " 'term has',\n",
       " 'that reshape',\n",
       " 'the dynamic',\n",
       " 'the landscape',\n",
       " 'this transformative',\n",
       " 'to evolve,',\n",
       " 'traction and',\n",
       " 'transformative journey,',\n",
       " 'updates that',\n",
       " 'wave of',\n",
       " 'web development,'}"
      ]
     },
     "execution_count": 29,
     "metadata": {},
     "output_type": "execute_result"
    }
   ],
   "source": [
    "set([' '.join([a[i], a[i+1]]) for i in range(len(a)-1)])"
   ]
  }
 ],
 "metadata": {
  "kernelspec": {
   "display_name": ".venv",
   "language": "python",
   "name": "python3"
  },
  "language_info": {
   "codemirror_mode": {
    "name": "ipython",
    "version": 3
   },
   "file_extension": ".py",
   "mimetype": "text/x-python",
   "name": "python",
   "nbconvert_exporter": "python",
   "pygments_lexer": "ipython3",
   "version": "3.11.5"
  }
 },
 "nbformat": 4,
 "nbformat_minor": 2
}
