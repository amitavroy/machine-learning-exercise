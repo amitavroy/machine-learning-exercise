{
 "cells": [
  {
   "cell_type": "markdown",
   "metadata": {},
   "source": [
    "# Blog search\n",
    "\n",
    "Trying to set up a script which will crawl the content of my website. And then I will store embeddings inside FAISS DB and use that for search. \n",
    "\n",
    "This is just an experiment. No intention to add this to my website as a search option."
   ]
  },
  {
   "cell_type": "code",
   "execution_count": 5,
   "metadata": {},
   "outputs": [
    {
     "name": "stderr",
     "output_type": "stream",
     "text": [
      "/home/amitavroy/code/personal/machine-learning-exercise/.venv/lib/python3.10/site-packages/tqdm/auto.py:21: TqdmWarning: IProgress not found. Please update jupyter and ipywidgets. See https://ipywidgets.readthedocs.io/en/stable/user_install.html\n",
      "  from .autonotebook import tqdm as notebook_tqdm\n"
     ]
    }
   ],
   "source": [
    "import requests\n",
    "from bs4 import BeautifulSoup\n",
    "from transformers import BertTokenizer, BertModel\n",
    "import faiss\n",
    "import numpy as np"
   ]
  },
  {
   "cell_type": "code",
   "execution_count": 8,
   "metadata": {},
   "outputs": [],
   "source": [
    "def get_article_content(url: str):\n",
    "    if not url:\n",
    "        raise ValueError(\"Invalid URL provided.\")\n",
    "    \n",
    "    try:\n",
    "        response = requests.get(url, headers={'User-Agent': 'Mozilla/5.0'})\n",
    "        response.raise_for_status()  # Raise an exception for non-200 status codes\n",
    "\n",
    "        soup = BeautifulSoup(response.content, 'html.parser')\n",
    "        article_content = soup.find(\"main\", class_=\"article-full\")\n",
    "\n",
    "        if article_content:\n",
    "            return article_content.text.strip()  # Extract and clean the text content\n",
    "        else:\n",
    "            print(f\"Content not found in <main> tag with class 'article-full' on {url}.\")\n",
    "            return None\n",
    "\n",
    "    except (requests.exceptions.RequestException, ValueError) as e:\n",
    "        print(f\"Error crawling {url}: {e}\")\n",
    "        return None"
   ]
  },
  {
   "cell_type": "code",
   "execution_count": 3,
   "metadata": {},
   "outputs": [],
   "source": [
    "def chunk_text(text, chunk_size=1000):\n",
    "    chunks = [text[i:i+chunk_size] for i in range(0, len(text), chunk_size)]\n",
    "    return chunks"
   ]
  },
  {
   "cell_type": "code",
   "execution_count": 6,
   "metadata": {},
   "outputs": [],
   "source": [
    "def encode_text(text, tokenizer, model):\n",
    "    inputs = tokenizer(text, return_tensors=\"pt\", max_length=512, truncation=True)\n",
    "    outputs = model(**inputs)\n",
    "    encoded_vector = outputs.last_hidden_state.mean(dim=1).squeeze().detach().numpy()\n",
    "    return encoded_vector"
   ]
  },
  {
   "cell_type": "code",
   "execution_count": 11,
   "metadata": {},
   "outputs": [],
   "source": [
    "article_url = \"https://www.amitavroy.com/articles/beyond-boundaries-how-frankenphp-redefines-php-application-runtimes-2024-01-01\"\n",
    "article_content = get_article_content(article_url)\n",
    "text_chunks = chunk_text(article_content)"
   ]
  },
  {
   "cell_type": "code",
   "execution_count": 12,
   "metadata": {},
   "outputs": [
    {
     "name": "stderr",
     "output_type": "stream",
     "text": [
      "tokenizer_config.json: 100%|██████████| 48.0/48.0 [00:00<00:00, 56.4kB/s]\n",
      "vocab.txt: 100%|██████████| 232k/232k [00:00<00:00, 551kB/s]\n",
      "tokenizer.json: 100%|██████████| 466k/466k [00:00<00:00, 802kB/s]\n",
      "config.json: 100%|██████████| 570/570 [00:00<00:00, 3.16MB/s]\n",
      "model.safetensors: 100%|██████████| 440M/440M [00:34<00:00, 12.9MB/s] \n"
     ]
    }
   ],
   "source": [
    "# Load BERT tokenizer and model\n",
    "tokenizer = BertTokenizer.from_pretrained(\"bert-base-uncased\")\n",
    "model = BertModel.from_pretrained(\"bert-base-uncased\")"
   ]
  },
  {
   "cell_type": "code",
   "execution_count": 13,
   "metadata": {},
   "outputs": [],
   "source": [
    "index = faiss.IndexFlatIP(768)  # Assuming 768 is the size of BERT encoding"
   ]
  },
  {
   "cell_type": "code",
   "execution_count": 15,
   "metadata": {},
   "outputs": [],
   "source": [
    "encoded_vectors = []\n",
    "for chunk in text_chunks:\n",
    "    encoded_vector = encode_text(chunk, tokenizer, model)\n",
    "    index.add(np.array([encoded_vector]))\n",
    "    encoded_vectors.append(encoded_vector)"
   ]
  },
  {
   "cell_type": "code",
   "execution_count": 18,
   "metadata": {},
   "outputs": [],
   "source": [
    "# Search for similar content\n",
    "search_query = \"build binary\"\n",
    "query_vector = encode_text(search_query, tokenizer, model)"
   ]
  },
  {
   "cell_type": "code",
   "execution_count": 19,
   "metadata": {},
   "outputs": [],
   "source": [
    "D, I = index.search(np.array([query_vector]), k=5)  # Adjust k based on the number of similar documents you want"
   ]
  },
  {
   "cell_type": "code",
   "execution_count": 20,
   "metadata": {},
   "outputs": [
    {
     "name": "stdout",
     "output_type": "stream",
     "text": [
      "Similar documents:\n",
      "Similarity Score: 34.817176818847656, Content: What is FrankenPHP?\n",
      "FrankenPHP is a contemporary PHP app server crafted in Go, boasting numerous advantages. Among its standout features, one that truly captures the spotlight is its remarkable ability to construct a standalone and self-contained binary. This particular feature holds immense significance, particularly in the realm of shipping PHP applications to production.\n",
      "FrankenPHP is a modern PHP app server written in Go. Here are some points which really sets it apart from others in the race\n",
      "\n",
      "It’s about 3.5x faster than PHP FPM.\n",
      "Written in Go and C, it relies on Go’s iconic goroutines features\n",
      "It uses Caddy server under the hood. So, HTTPS support for local development is also available out of the box\n",
      "It has native support for HTTP/1.1, HTTP/2 and HTTP/3. Having a reduced round-trip time for HTTP/3, it’s a very performant option.\n",
      "\n",
      "The game-changing perks\n",
      "Now, let's talk about the good things that make FrankenPHP stand out in the crowd. We've touched on a few points earlier, but th\n",
      "Similarity Score: 34.038360595703125, Content: ere are some features that got me particularly excited. These aren't just perks; they're the kind that can genuinely shake up your development and deployment game.\n",
      "Single binary - Deployment Bliss\n",
      "Ever dreamed of simplifying your deployment process? FrankenPHP makes it happen. The ability to whip up a single binary for our entire PHP application is a game-changer. No need for additional software – just a straightforward Ubuntu docker container is all you require to run your PHP apps. This not only streamlines deployment but also trims down the docker container's size on production. Less software onboard means fewer attack vectors, and trust me, that's a security win we all want.Worker Script Mode - Powering Up Performance\n",
      "Let's talk about performance, shall we? One of the cool things about Node applications is their ability to run entirely from memory, providing a performance boost for high-traffic scenarios. Guess what? FrankenPHP brings that magic to PHP using its worker mode. Boot u\n",
      "Similarity Score: 29.120851516723633, Content: p once, stay in memory, and enjoy a significant performance boost. It's the kind of wizardry that keeps your app nimble and ready for action.\n",
      "103 Early hint support - Speeding Things Up\n",
      "Ever heard of the 103 status code? I confess it wasn't on my radar until I dug into FrankenPHP. Now, I see how it can turbocharge a site's speed, especially in today's SEO landscape where page speed is king. FrankenPHP claims a whopping 30% reduction in loading time by harnessing early hint support. Curious? Dive into the MDN docs for the full scoop on how this feature works wonders.\n",
      "Prometheus metrics and tracing - Keeping an Eye on Things\n",
      "For those of us knee-deep in Prometheus for infrastructure monitoring, discovering that FrankenPHP supports it is like finding treasure. Running an application is sweet, but on production, logging is a critical piece of the puzzle. With built-in support for Prometheus metrics and tracing, FrankenPHP just earned itself a star.\n",
      "So, these are the features that caught my\n",
      "Similarity Score: 28.7436466217041, Content:  eye. As of January 2nd, I've got one application running on production with FrankenPHP, and I'm eager to share more insights as the journey unfolds. There's even a real-time feature I've spotted in the docs, waiting to be explored. Exciting times ahead!\n",
      "What are your thoughts on FrankenPHP? Are you running any applications with it in production? Let's chat on Twitter or LinkedIn—I'm always up for a good tech talk!\n",
      "Similarity Score: -3.4028234663852886e+38, Content:  eye. As of January 2nd, I've got one application running on production with FrankenPHP, and I'm eager to share more insights as the journey unfolds. There's even a real-time feature I've spotted in the docs, waiting to be explored. Exciting times ahead!\n",
      "What are your thoughts on FrankenPHP? Are you running any applications with it in production? Let's chat on Twitter or LinkedIn—I'm always up for a good tech talk!\n"
     ]
    }
   ],
   "source": [
    "print(\"Similar documents:\")\n",
    "for i, idx in enumerate(I[0]):\n",
    "    similarity_score = D[0][i]\n",
    "    similar_content = text_chunks[idx]\n",
    "    print(f\"Similarity Score: {similarity_score}, Content: {similar_content}\")"
   ]
  }
 ],
 "metadata": {
  "kernelspec": {
   "display_name": ".venv",
   "language": "python",
   "name": "python3"
  },
  "language_info": {
   "codemirror_mode": {
    "name": "ipython",
    "version": 3
   },
   "file_extension": ".py",
   "mimetype": "text/x-python",
   "name": "python",
   "nbconvert_exporter": "python",
   "pygments_lexer": "ipython3",
   "version": "3.10.12"
  }
 },
 "nbformat": 4,
 "nbformat_minor": 2
}
