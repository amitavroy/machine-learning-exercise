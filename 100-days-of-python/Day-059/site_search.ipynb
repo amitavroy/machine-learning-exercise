{
 "cells": [
  {
   "cell_type": "markdown",
   "metadata": {},
   "source": [
    "# Blog search\n",
    "\n",
    "Trying to set up a script which will crawl the content of my website. And then I will store embeddings inside FAISS DB and use that for search. \n",
    "\n",
    "This is just an experiment. No intention to add this to my website as a search option."
   ]
  },
  {
   "cell_type": "code",
   "execution_count": 7,
   "metadata": {},
   "outputs": [
    {
     "name": "stderr",
     "output_type": "stream",
     "text": [
      "/home/amitavroy/code/personal/machine-learning-exercise/.venv/lib/python3.10/site-packages/tqdm/auto.py:21: TqdmWarning: IProgress not found. Please update jupyter and ipywidgets. See https://ipywidgets.readthedocs.io/en/stable/user_install.html\n",
      "  from .autonotebook import tqdm as notebook_tqdm\n"
     ]
    }
   ],
   "source": [
    "import requests\n",
    "from bs4 import BeautifulSoup\n",
    "from transformers import BertTokenizer, BertModel\n",
    "import faiss\n",
    "import numpy as np"
   ]
  },
  {
   "cell_type": "code",
   "execution_count": 8,
   "metadata": {},
   "outputs": [],
   "source": [
    "def get_article_content(url: str):\n",
    "    if not url:\n",
    "        raise ValueError(\"Invalid URL provided.\")\n",
    "    \n",
    "    try:\n",
    "        response = requests.get(url, headers={'User-Agent': 'Mozilla/5.0'})\n",
    "        response.raise_for_status()  # Raise an exception for non-200 status codes\n",
    "\n",
    "        soup = BeautifulSoup(response.content, 'html.parser')\n",
    "        article_content = soup.find(\"main\", class_=\"article-full\")\n",
    "\n",
    "        if article_content:\n",
    "            return article_content.text.strip()  # Extract and clean the text content\n",
    "        else:\n",
    "            print(f\"Content not found in <main> tag with class 'article-full' on {url}.\")\n",
    "            return None\n",
    "\n",
    "    except (requests.exceptions.RequestException, ValueError) as e:\n",
    "        print(f\"Error crawling {url}: {e}\")\n",
    "        return None"
   ]
  },
  {
   "cell_type": "code",
   "execution_count": 9,
   "metadata": {},
   "outputs": [],
   "source": [
    "def chunk_text(text, chunk_size=1000):\n",
    "    chunks = [text[i:i+chunk_size] for i in range(0, len(text), chunk_size)]\n",
    "    return chunks"
   ]
  },
  {
   "cell_type": "code",
   "execution_count": 10,
   "metadata": {},
   "outputs": [],
   "source": [
    "def encode_text(text, tokenizer, model):\n",
    "    inputs = tokenizer(text, return_tensors=\"pt\", max_length=512, truncation=True)\n",
    "    outputs = model(**inputs)\n",
    "    encoded_vector = outputs.last_hidden_state.mean(dim=1).squeeze().detach().numpy()\n",
    "    return encoded_vector"
   ]
  },
  {
   "cell_type": "code",
   "execution_count": 11,
   "metadata": {},
   "outputs": [],
   "source": [
    "# Load BERT tokenizer and model\n",
    "tokenizer = BertTokenizer.from_pretrained(\"bert-base-uncased\")\n",
    "model = BertModel.from_pretrained(\"bert-base-uncased\")"
   ]
  },
  {
   "cell_type": "code",
   "execution_count": 12,
   "metadata": {},
   "outputs": [],
   "source": [
    "index = faiss.IndexFlatIP(768)  # Assuming 768 is the size of BERT encoding"
   ]
  },
  {
   "cell_type": "code",
   "execution_count": 17,
   "metadata": {},
   "outputs": [],
   "source": [
    "urls = [\n",
    "    'https://www.amitavroy.com/articles/beyond-boundaries-how-frankenphp-redefines-php-application-runtimes-2024-01-01',\n",
    "    'https://www.amitavroy.com/articles/the-future-is-low-code-adapting-to-the-inevitable-2023-10-24',\n",
    "    'https://www.amitavroy.com/articles/what-is-next-js-incremental-static-generation-isr-a-complete-guide-2023-10-02',\n",
    "    'https://www.amitavroy.com/articles/how-saloon-php-helped-me-changing-my-newsletter-integration-in-minutes-2023-09-24',\n",
    "    'https://www.amitavroy.com/articles/multi-tenant-apps-and-why-they-are-efficient-2023-09-16',\n",
    "    'https://www.amitavroy.com/articles/why-use-saloon-connect-third-party-api'\n",
    "];"
   ]
  },
  {
   "cell_type": "code",
   "execution_count": 22,
   "metadata": {},
   "outputs": [],
   "source": [
    "text_chunks = []\n",
    "\n",
    "for url in urls:\n",
    "    article_content = get_article_content(url)\n",
    "    text_chunks = chunk_text(article_content)\n",
    "    encoded_vectors = []\n",
    "    for chunk in text_chunks:\n",
    "        encoded_vector = encode_text(chunk, tokenizer, model)\n",
    "        index.add(np.array([encoded_vector]))\n",
    "        encoded_vectors.append(encoded_vector)"
   ]
  },
  {
   "cell_type": "code",
   "execution_count": 24,
   "metadata": {},
   "outputs": [],
   "source": [
    "# Search for similar content\n",
    "search_query = \"saloon php laravel\"\n",
    "query_vector = encode_text(search_query, tokenizer, model)"
   ]
  },
  {
   "cell_type": "code",
   "execution_count": 25,
   "metadata": {},
   "outputs": [],
   "source": [
    "D, I = index.search(np.array([query_vector]), k=5)  # Adjust k based on the number of similar documents you want"
   ]
  },
  {
   "cell_type": "code",
   "execution_count": 26,
   "metadata": {},
   "outputs": [
    {
     "name": "stdout",
     "output_type": "stream",
     "text": [
      "Similar documents:\n"
     ]
    },
    {
     "ename": "IndexError",
     "evalue": "list index out of range",
     "output_type": "error",
     "traceback": [
      "\u001b[0;31m---------------------------------------------------------------------------\u001b[0m",
      "\u001b[0;31mIndexError\u001b[0m                                Traceback (most recent call last)",
      "Cell \u001b[0;32mIn[26], line 4\u001b[0m\n\u001b[1;32m      2\u001b[0m \u001b[38;5;28;01mfor\u001b[39;00m i, idx \u001b[38;5;129;01min\u001b[39;00m \u001b[38;5;28menumerate\u001b[39m(I[\u001b[38;5;241m0\u001b[39m]):\n\u001b[1;32m      3\u001b[0m     similarity_score \u001b[38;5;241m=\u001b[39m D[\u001b[38;5;241m0\u001b[39m][i]\n\u001b[0;32m----> 4\u001b[0m     similar_content \u001b[38;5;241m=\u001b[39m \u001b[43mtext_chunks\u001b[49m\u001b[43m[\u001b[49m\u001b[43midx\u001b[49m\u001b[43m]\u001b[49m\n\u001b[1;32m      5\u001b[0m     \u001b[38;5;28mprint\u001b[39m(\u001b[38;5;124mf\u001b[39m\u001b[38;5;124m\"\u001b[39m\u001b[38;5;124mSimilarity Score: \u001b[39m\u001b[38;5;132;01m{\u001b[39;00msimilarity_score\u001b[38;5;132;01m}\u001b[39;00m\u001b[38;5;124m, Content: \u001b[39m\u001b[38;5;132;01m{\u001b[39;00msimilar_content\u001b[38;5;132;01m}\u001b[39;00m\u001b[38;5;124m\"\u001b[39m)\n",
      "\u001b[0;31mIndexError\u001b[0m: list index out of range"
     ]
    }
   ],
   "source": [
    "print(\"Similar documents:\")\n",
    "for i, idx in enumerate(I[0]):\n",
    "    similarity_score = D[0][i]\n",
    "    similar_content = text_chunks[idx]\n",
    "    print(f\"Similarity Score: {similarity_score}, Content: {similar_content}\")"
   ]
  }
 ],
 "metadata": {
  "kernelspec": {
   "display_name": ".venv",
   "language": "python",
   "name": "python3"
  },
  "language_info": {
   "codemirror_mode": {
    "name": "ipython",
    "version": 3
   },
   "file_extension": ".py",
   "mimetype": "text/x-python",
   "name": "python",
   "nbconvert_exporter": "python",
   "pygments_lexer": "ipython3",
   "version": "3.10.12"
  }
 },
 "nbformat": 4,
 "nbformat_minor": 2
}
