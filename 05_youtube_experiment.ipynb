{
 "cells": [
  {
   "cell_type": "code",
   "execution_count": 144,
   "metadata": {},
   "outputs": [],
   "source": [
    "# These are some common libraries which are required to do any kind of data analysis \n",
    "import pandas as pd\n",
    "import numpy as np\n",
    "import matplotlib.pyplot as plt\n",
    "import plotly.express as px\n",
    "%matplotlib inline\n"
   ]
  },
  {
   "cell_type": "code",
   "execution_count": 145,
   "metadata": {},
   "outputs": [],
   "source": [
    "# This function will help reading data from a CSV file\n",
    "# It will return the data as a Panda Data frame\n",
    "def load_data_from_csv(filePath, fileName):\n",
    "    df = pd.read_csv(filePath + fileName)\n",
    "    return df\n"
   ]
  },
  {
   "cell_type": "code",
   "execution_count": 146,
   "metadata": {},
   "outputs": [],
   "source": [
    "# This is where we are loading the data from a CSV file\n",
    "df = load_data_from_csv('./data/', 'youtube.csv')\n",
    "\n",
    "# removing the comma from the original data set\n",
    "df = df.replace(',', '', regex=True)\n",
    "\n",
    "# converting certain columns to integer\n",
    "columns_to_exclude = ['Month', 'Month.1']\n",
    "df.loc[:, df.columns.difference(columns_to_exclude)] = df.loc[:, df.columns.difference(columns_to_exclude)].astype(float)\n",
    "df['Month.1'] = pd.to_datetime(df['Month.1'], format='%m/%d/%Y').dt.strftime('%m').astype(int)\n",
    "df['Views'] = df['Views'].astype(int)\n",
    "df = df.drop('Month', axis=1)\n"
   ]
  },
  {
   "cell_type": "code",
   "execution_count": 147,
   "metadata": {},
   "outputs": [
    {
     "name": "stdout",
     "output_type": "stream",
     "text": [
      "<class 'pandas.core.frame.DataFrame'>\n",
      "RangeIndex: 11 entries, 0 to 10\n",
      "Data columns (total 10 columns):\n",
      " #   Column                 Non-Null Count  Dtype  \n",
      "---  ------                 --------------  -----  \n",
      " 0   Month.1                11 non-null     int64  \n",
      " 1   Views                  11 non-null     int64  \n",
      " 2   Views increased        11 non-null     object \n",
      " 3   Watch time (hours)     11 non-null     object \n",
      " 4   Watch time increase    11 non-null     int64  \n",
      " 5   Subscribers            11 non-null     int64  \n",
      " 6   Subscribers increased  11 non-null     int64  \n",
      " 7   Revenue                11 non-null     float64\n",
      " 8   Revenue Increase       11 non-null     float64\n",
      " 9   Videos                 11 non-null     int64  \n",
      "dtypes: float64(2), int64(6), object(2)\n",
      "memory usage: 1012.0+ bytes\n"
     ]
    }
   ],
   "source": [
    "df.info()\n"
   ]
  },
  {
   "cell_type": "code",
   "execution_count": 148,
   "metadata": {},
   "outputs": [
    {
     "data": {
      "text/html": [
       "<div>\n",
       "<style scoped>\n",
       "    .dataframe tbody tr th:only-of-type {\n",
       "        vertical-align: middle;\n",
       "    }\n",
       "\n",
       "    .dataframe tbody tr th {\n",
       "        vertical-align: top;\n",
       "    }\n",
       "\n",
       "    .dataframe thead th {\n",
       "        text-align: right;\n",
       "    }\n",
       "</style>\n",
       "<table border=\"1\" class=\"dataframe\">\n",
       "  <thead>\n",
       "    <tr style=\"text-align: right;\">\n",
       "      <th></th>\n",
       "      <th>Month.1</th>\n",
       "      <th>Views</th>\n",
       "      <th>Views increased</th>\n",
       "      <th>Watch time (hours)</th>\n",
       "      <th>Watch time increase</th>\n",
       "      <th>Subscribers</th>\n",
       "      <th>Subscribers increased</th>\n",
       "      <th>Revenue</th>\n",
       "      <th>Revenue Increase</th>\n",
       "      <th>Videos</th>\n",
       "    </tr>\n",
       "  </thead>\n",
       "  <tbody>\n",
       "    <tr>\n",
       "      <th>0</th>\n",
       "      <td>1</td>\n",
       "      <td>44700</td>\n",
       "      <td>0.0</td>\n",
       "      <td>2200.0</td>\n",
       "      <td>0</td>\n",
       "      <td>206</td>\n",
       "      <td>0</td>\n",
       "      <td>7281.85</td>\n",
       "      <td>0.00</td>\n",
       "      <td>9</td>\n",
       "    </tr>\n",
       "    <tr>\n",
       "      <th>1</th>\n",
       "      <td>2</td>\n",
       "      <td>44400</td>\n",
       "      <td>-300.0</td>\n",
       "      <td>2100.0</td>\n",
       "      <td>-100</td>\n",
       "      <td>201</td>\n",
       "      <td>-5</td>\n",
       "      <td>7290.49</td>\n",
       "      <td>8.64</td>\n",
       "      <td>7</td>\n",
       "    </tr>\n",
       "    <tr>\n",
       "      <th>2</th>\n",
       "      <td>3</td>\n",
       "      <td>54900</td>\n",
       "      <td>10500.0</td>\n",
       "      <td>2400.0</td>\n",
       "      <td>300</td>\n",
       "      <td>248</td>\n",
       "      <td>47</td>\n",
       "      <td>8040.00</td>\n",
       "      <td>749.51</td>\n",
       "      <td>10</td>\n",
       "    </tr>\n",
       "    <tr>\n",
       "      <th>3</th>\n",
       "      <td>4</td>\n",
       "      <td>51200</td>\n",
       "      <td>-3700.0</td>\n",
       "      <td>2200.0</td>\n",
       "      <td>-200</td>\n",
       "      <td>200</td>\n",
       "      <td>-48</td>\n",
       "      <td>7434.57</td>\n",
       "      <td>-605.43</td>\n",
       "      <td>9</td>\n",
       "    </tr>\n",
       "    <tr>\n",
       "      <th>4</th>\n",
       "      <td>5</td>\n",
       "      <td>52700</td>\n",
       "      <td>1500.0</td>\n",
       "      <td>2400.0</td>\n",
       "      <td>200</td>\n",
       "      <td>211</td>\n",
       "      <td>11</td>\n",
       "      <td>8266.61</td>\n",
       "      <td>832.04</td>\n",
       "      <td>9</td>\n",
       "    </tr>\n",
       "    <tr>\n",
       "      <th>5</th>\n",
       "      <td>6</td>\n",
       "      <td>49202</td>\n",
       "      <td>-3498.0</td>\n",
       "      <td>2200.0</td>\n",
       "      <td>-200</td>\n",
       "      <td>206</td>\n",
       "      <td>-5</td>\n",
       "      <td>7836.71</td>\n",
       "      <td>-429.90</td>\n",
       "      <td>8</td>\n",
       "    </tr>\n",
       "    <tr>\n",
       "      <th>6</th>\n",
       "      <td>7</td>\n",
       "      <td>62007</td>\n",
       "      <td>12805.0</td>\n",
       "      <td>2200.0</td>\n",
       "      <td>0</td>\n",
       "      <td>242</td>\n",
       "      <td>36</td>\n",
       "      <td>7898.54</td>\n",
       "      <td>61.83</td>\n",
       "      <td>8</td>\n",
       "    </tr>\n",
       "    <tr>\n",
       "      <th>7</th>\n",
       "      <td>8</td>\n",
       "      <td>65989</td>\n",
       "      <td>3982.0</td>\n",
       "      <td>2969.0</td>\n",
       "      <td>769</td>\n",
       "      <td>357</td>\n",
       "      <td>115</td>\n",
       "      <td>9950.24</td>\n",
       "      <td>2051.70</td>\n",
       "      <td>10</td>\n",
       "    </tr>\n",
       "    <tr>\n",
       "      <th>8</th>\n",
       "      <td>9</td>\n",
       "      <td>57122</td>\n",
       "      <td>-8867.0</td>\n",
       "      <td>2615.0</td>\n",
       "      <td>-354</td>\n",
       "      <td>353</td>\n",
       "      <td>-4</td>\n",
       "      <td>8476.46</td>\n",
       "      <td>-1473.78</td>\n",
       "      <td>10</td>\n",
       "    </tr>\n",
       "    <tr>\n",
       "      <th>9</th>\n",
       "      <td>10</td>\n",
       "      <td>51236</td>\n",
       "      <td>-5886.0</td>\n",
       "      <td>2221.0</td>\n",
       "      <td>-394</td>\n",
       "      <td>212</td>\n",
       "      <td>-141</td>\n",
       "      <td>8056.71</td>\n",
       "      <td>-419.75</td>\n",
       "      <td>9</td>\n",
       "    </tr>\n",
       "    <tr>\n",
       "      <th>10</th>\n",
       "      <td>11</td>\n",
       "      <td>46934</td>\n",
       "      <td>-4302.0</td>\n",
       "      <td>2065.0</td>\n",
       "      <td>-156</td>\n",
       "      <td>222</td>\n",
       "      <td>10</td>\n",
       "      <td>8053.91</td>\n",
       "      <td>-2.80</td>\n",
       "      <td>5</td>\n",
       "    </tr>\n",
       "  </tbody>\n",
       "</table>\n",
       "</div>"
      ],
      "text/plain": [
       "    Month.1  Views Views increased Watch time (hours)  Watch time increase  \\\n",
       "0         1  44700             0.0             2200.0                    0   \n",
       "1         2  44400          -300.0             2100.0                 -100   \n",
       "2         3  54900         10500.0             2400.0                  300   \n",
       "3         4  51200         -3700.0             2200.0                 -200   \n",
       "4         5  52700          1500.0             2400.0                  200   \n",
       "5         6  49202         -3498.0             2200.0                 -200   \n",
       "6         7  62007         12805.0             2200.0                    0   \n",
       "7         8  65989          3982.0             2969.0                  769   \n",
       "8         9  57122         -8867.0             2615.0                 -354   \n",
       "9        10  51236         -5886.0             2221.0                 -394   \n",
       "10       11  46934         -4302.0             2065.0                 -156   \n",
       "\n",
       "    Subscribers  Subscribers increased  Revenue  Revenue Increase  Videos  \n",
       "0           206                      0  7281.85              0.00       9  \n",
       "1           201                     -5  7290.49              8.64       7  \n",
       "2           248                     47  8040.00            749.51      10  \n",
       "3           200                    -48  7434.57           -605.43       9  \n",
       "4           211                     11  8266.61            832.04       9  \n",
       "5           206                     -5  7836.71           -429.90       8  \n",
       "6           242                     36  7898.54             61.83       8  \n",
       "7           357                    115  9950.24           2051.70      10  \n",
       "8           353                     -4  8476.46          -1473.78      10  \n",
       "9           212                   -141  8056.71           -419.75       9  \n",
       "10          222                     10  8053.91             -2.80       5  "
      ]
     },
     "execution_count": 148,
     "metadata": {},
     "output_type": "execute_result"
    }
   ],
   "source": [
    "df.head(20)\n"
   ]
  },
  {
   "cell_type": "code",
   "execution_count": 163,
   "metadata": {},
   "outputs": [
    {
     "data": {
      "text/html": [
       "<div>\n",
       "<style scoped>\n",
       "    .dataframe tbody tr th:only-of-type {\n",
       "        vertical-align: middle;\n",
       "    }\n",
       "\n",
       "    .dataframe tbody tr th {\n",
       "        vertical-align: top;\n",
       "    }\n",
       "\n",
       "    .dataframe thead th {\n",
       "        text-align: right;\n",
       "    }\n",
       "</style>\n",
       "<table border=\"1\" class=\"dataframe\">\n",
       "  <thead>\n",
       "    <tr style=\"text-align: right;\">\n",
       "      <th></th>\n",
       "      <th>Month.1</th>\n",
       "      <th>Views</th>\n",
       "      <th>Views increased</th>\n",
       "      <th>Watch time (hours)</th>\n",
       "      <th>Watch time increase</th>\n",
       "      <th>Subscribers</th>\n",
       "      <th>Subscribers increased</th>\n",
       "      <th>Revenue</th>\n",
       "      <th>Revenue Increase</th>\n",
       "      <th>Videos</th>\n",
       "      <th>VideosK</th>\n",
       "      <th>ViewsK</th>\n",
       "    </tr>\n",
       "  </thead>\n",
       "  <tbody>\n",
       "    <tr>\n",
       "      <th>0</th>\n",
       "      <td>1</td>\n",
       "      <td>44700</td>\n",
       "      <td>0.0</td>\n",
       "      <td>2200.0</td>\n",
       "      <td>0</td>\n",
       "      <td>206</td>\n",
       "      <td>0</td>\n",
       "      <td>7281.85</td>\n",
       "      <td>0.00</td>\n",
       "      <td>9</td>\n",
       "      <td>0.316228</td>\n",
       "      <td>-1.233033</td>\n",
       "    </tr>\n",
       "    <tr>\n",
       "      <th>1</th>\n",
       "      <td>2</td>\n",
       "      <td>44400</td>\n",
       "      <td>-300.0</td>\n",
       "      <td>2100.0</td>\n",
       "      <td>-100</td>\n",
       "      <td>201</td>\n",
       "      <td>-5</td>\n",
       "      <td>7290.49</td>\n",
       "      <td>8.64</td>\n",
       "      <td>7</td>\n",
       "      <td>-1.075174</td>\n",
       "      <td>-1.278912</td>\n",
       "    </tr>\n",
       "    <tr>\n",
       "      <th>2</th>\n",
       "      <td>3</td>\n",
       "      <td>54900</td>\n",
       "      <td>10500.0</td>\n",
       "      <td>2400.0</td>\n",
       "      <td>300</td>\n",
       "      <td>248</td>\n",
       "      <td>47</td>\n",
       "      <td>8040.00</td>\n",
       "      <td>749.51</td>\n",
       "      <td>10</td>\n",
       "      <td>1.011929</td>\n",
       "      <td>0.326853</td>\n",
       "    </tr>\n",
       "    <tr>\n",
       "      <th>3</th>\n",
       "      <td>4</td>\n",
       "      <td>51200</td>\n",
       "      <td>-3700.0</td>\n",
       "      <td>2200.0</td>\n",
       "      <td>-200</td>\n",
       "      <td>200</td>\n",
       "      <td>-48</td>\n",
       "      <td>7434.57</td>\n",
       "      <td>-605.43</td>\n",
       "      <td>9</td>\n",
       "      <td>0.316228</td>\n",
       "      <td>-0.238988</td>\n",
       "    </tr>\n",
       "    <tr>\n",
       "      <th>4</th>\n",
       "      <td>5</td>\n",
       "      <td>52700</td>\n",
       "      <td>1500.0</td>\n",
       "      <td>2400.0</td>\n",
       "      <td>200</td>\n",
       "      <td>211</td>\n",
       "      <td>11</td>\n",
       "      <td>8266.61</td>\n",
       "      <td>832.04</td>\n",
       "      <td>9</td>\n",
       "      <td>0.316228</td>\n",
       "      <td>-0.009593</td>\n",
       "    </tr>\n",
       "    <tr>\n",
       "      <th>5</th>\n",
       "      <td>6</td>\n",
       "      <td>49202</td>\n",
       "      <td>-3498.0</td>\n",
       "      <td>2200.0</td>\n",
       "      <td>-200</td>\n",
       "      <td>206</td>\n",
       "      <td>-5</td>\n",
       "      <td>7836.71</td>\n",
       "      <td>-429.90</td>\n",
       "      <td>8</td>\n",
       "      <td>-0.379473</td>\n",
       "      <td>-0.544542</td>\n",
       "    </tr>\n",
       "    <tr>\n",
       "      <th>6</th>\n",
       "      <td>7</td>\n",
       "      <td>62007</td>\n",
       "      <td>12805.0</td>\n",
       "      <td>2200.0</td>\n",
       "      <td>0</td>\n",
       "      <td>242</td>\n",
       "      <td>36</td>\n",
       "      <td>7898.54</td>\n",
       "      <td>61.83</td>\n",
       "      <td>8</td>\n",
       "      <td>-0.379473</td>\n",
       "      <td>1.413727</td>\n",
       "    </tr>\n",
       "    <tr>\n",
       "      <th>7</th>\n",
       "      <td>8</td>\n",
       "      <td>65989</td>\n",
       "      <td>3982.0</td>\n",
       "      <td>2969.0</td>\n",
       "      <td>769</td>\n",
       "      <td>357</td>\n",
       "      <td>115</td>\n",
       "      <td>9950.24</td>\n",
       "      <td>2051.70</td>\n",
       "      <td>10</td>\n",
       "      <td>1.011929</td>\n",
       "      <td>2.022695</td>\n",
       "    </tr>\n",
       "    <tr>\n",
       "      <th>8</th>\n",
       "      <td>9</td>\n",
       "      <td>57122</td>\n",
       "      <td>-8867.0</td>\n",
       "      <td>2615.0</td>\n",
       "      <td>-354</td>\n",
       "      <td>353</td>\n",
       "      <td>-4</td>\n",
       "      <td>8476.46</td>\n",
       "      <td>-1473.78</td>\n",
       "      <td>10</td>\n",
       "      <td>1.011929</td>\n",
       "      <td>0.666664</td>\n",
       "    </tr>\n",
       "    <tr>\n",
       "      <th>9</th>\n",
       "      <td>10</td>\n",
       "      <td>51236</td>\n",
       "      <td>-5886.0</td>\n",
       "      <td>2221.0</td>\n",
       "      <td>-394</td>\n",
       "      <td>212</td>\n",
       "      <td>-141</td>\n",
       "      <td>8056.71</td>\n",
       "      <td>-419.75</td>\n",
       "      <td>9</td>\n",
       "      <td>0.316228</td>\n",
       "      <td>-0.233482</td>\n",
       "    </tr>\n",
       "  </tbody>\n",
       "</table>\n",
       "</div>"
      ],
      "text/plain": [
       "   Month.1  Views Views increased Watch time (hours)  Watch time increase  \\\n",
       "0        1  44700             0.0             2200.0                    0   \n",
       "1        2  44400          -300.0             2100.0                 -100   \n",
       "2        3  54900         10500.0             2400.0                  300   \n",
       "3        4  51200         -3700.0             2200.0                 -200   \n",
       "4        5  52700          1500.0             2400.0                  200   \n",
       "5        6  49202         -3498.0             2200.0                 -200   \n",
       "6        7  62007         12805.0             2200.0                    0   \n",
       "7        8  65989          3982.0             2969.0                  769   \n",
       "8        9  57122         -8867.0             2615.0                 -354   \n",
       "9       10  51236         -5886.0             2221.0                 -394   \n",
       "\n",
       "   Subscribers  Subscribers increased  Revenue  Revenue Increase  Videos  \\\n",
       "0          206                      0  7281.85              0.00       9   \n",
       "1          201                     -5  7290.49              8.64       7   \n",
       "2          248                     47  8040.00            749.51      10   \n",
       "3          200                    -48  7434.57           -605.43       9   \n",
       "4          211                     11  8266.61            832.04       9   \n",
       "5          206                     -5  7836.71           -429.90       8   \n",
       "6          242                     36  7898.54             61.83       8   \n",
       "7          357                    115  9950.24           2051.70      10   \n",
       "8          353                     -4  8476.46          -1473.78      10   \n",
       "9          212                   -141  8056.71           -419.75       9   \n",
       "\n",
       "    VideosK    ViewsK  \n",
       "0  0.316228 -1.233033  \n",
       "1 -1.075174 -1.278912  \n",
       "2  1.011929  0.326853  \n",
       "3  0.316228 -0.238988  \n",
       "4  0.316228 -0.009593  \n",
       "5 -0.379473 -0.544542  \n",
       "6 -0.379473  1.413727  \n",
       "7  1.011929  2.022695  \n",
       "8  1.011929  0.666664  \n",
       "9  0.316228 -0.233482  "
      ]
     },
     "execution_count": 163,
     "metadata": {},
     "output_type": "execute_result"
    }
   ],
   "source": [
    "from sklearn.preprocessing import StandardScaler\n",
    "sc = StandardScaler()\n",
    "\n",
    "df['VideosK'] = sc.fit_transform(df['Videos'].values.reshape(-1, 1))\n",
    "df['ViewsK'] = sc.fit_transform(df['Views'].values.reshape(-1, 1))\n",
    "\n",
    "df.head(10)\n"
   ]
  },
  {
   "cell_type": "code",
   "execution_count": 165,
   "metadata": {},
   "outputs": [
    {
     "data": {
      "application/vnd.plotly.v1+json": {
       "config": {
        "plotlyServerURL": "https://plot.ly"
       },
       "data": [
        {
         "hovertemplate": "variable=ViewsK<br>Month.1=%{x}<br>ASd=%{y}<extra></extra>",
         "legendgroup": "ViewsK",
         "line": {
          "color": "#636efa",
          "dash": "solid"
         },
         "marker": {
          "symbol": "circle"
         },
         "mode": "lines",
         "name": "ViewsK",
         "orientation": "v",
         "showlegend": true,
         "type": "scatter",
         "x": [
          1,
          2,
          3,
          4,
          5,
          6,
          7,
          8,
          9,
          10,
          11
         ],
         "xaxis": "x",
         "y": [
          -1.2330333835500928,
          -1.2789124022186609,
          0.32685325118122327,
          -0.2389879790644502,
          -0.009592885721609597,
          -0.5445422433971139,
          1.413727203439602,
          2.0226947112337297,
          0.6666638494530845,
          -0.23348249682422204,
          -0.8913876245314889
         ],
         "yaxis": "y"
        },
        {
         "hovertemplate": "variable=VideosK<br>Month.1=%{x}<br>ASd=%{y}<extra></extra>",
         "legendgroup": "VideosK",
         "line": {
          "color": "#EF553B",
          "dash": "solid"
         },
         "marker": {
          "symbol": "circle"
         },
         "mode": "lines",
         "name": "VideosK",
         "orientation": "v",
         "showlegend": true,
         "type": "scatter",
         "x": [
          1,
          2,
          3,
          4,
          5,
          6,
          7,
          8,
          9,
          10,
          11
         ],
         "xaxis": "x",
         "y": [
          0.31622776601683833,
          -1.0751744044572489,
          1.0119288512538818,
          0.31622776601683833,
          0.31622776601683833,
          -0.3794733192202052,
          -0.3794733192202052,
          1.0119288512538818,
          1.0119288512538818,
          0.31622776601683833,
          -2.4665765749313358
         ],
         "yaxis": "y"
        }
       ],
       "layout": {
        "legend": {
         "title": {
          "text": "variable"
         },
         "tracegroupgap": 0
        },
        "template": {
         "data": {
          "bar": [
           {
            "error_x": {
             "color": "#2a3f5f"
            },
            "error_y": {
             "color": "#2a3f5f"
            },
            "marker": {
             "line": {
              "color": "#E5ECF6",
              "width": 0.5
             },
             "pattern": {
              "fillmode": "overlay",
              "size": 10,
              "solidity": 0.2
             }
            },
            "type": "bar"
           }
          ],
          "barpolar": [
           {
            "marker": {
             "line": {
              "color": "#E5ECF6",
              "width": 0.5
             },
             "pattern": {
              "fillmode": "overlay",
              "size": 10,
              "solidity": 0.2
             }
            },
            "type": "barpolar"
           }
          ],
          "carpet": [
           {
            "aaxis": {
             "endlinecolor": "#2a3f5f",
             "gridcolor": "white",
             "linecolor": "white",
             "minorgridcolor": "white",
             "startlinecolor": "#2a3f5f"
            },
            "baxis": {
             "endlinecolor": "#2a3f5f",
             "gridcolor": "white",
             "linecolor": "white",
             "minorgridcolor": "white",
             "startlinecolor": "#2a3f5f"
            },
            "type": "carpet"
           }
          ],
          "choropleth": [
           {
            "colorbar": {
             "outlinewidth": 0,
             "ticks": ""
            },
            "type": "choropleth"
           }
          ],
          "contour": [
           {
            "colorbar": {
             "outlinewidth": 0,
             "ticks": ""
            },
            "colorscale": [
             [
              0,
              "#0d0887"
             ],
             [
              0.1111111111111111,
              "#46039f"
             ],
             [
              0.2222222222222222,
              "#7201a8"
             ],
             [
              0.3333333333333333,
              "#9c179e"
             ],
             [
              0.4444444444444444,
              "#bd3786"
             ],
             [
              0.5555555555555556,
              "#d8576b"
             ],
             [
              0.6666666666666666,
              "#ed7953"
             ],
             [
              0.7777777777777778,
              "#fb9f3a"
             ],
             [
              0.8888888888888888,
              "#fdca26"
             ],
             [
              1,
              "#f0f921"
             ]
            ],
            "type": "contour"
           }
          ],
          "contourcarpet": [
           {
            "colorbar": {
             "outlinewidth": 0,
             "ticks": ""
            },
            "type": "contourcarpet"
           }
          ],
          "heatmap": [
           {
            "colorbar": {
             "outlinewidth": 0,
             "ticks": ""
            },
            "colorscale": [
             [
              0,
              "#0d0887"
             ],
             [
              0.1111111111111111,
              "#46039f"
             ],
             [
              0.2222222222222222,
              "#7201a8"
             ],
             [
              0.3333333333333333,
              "#9c179e"
             ],
             [
              0.4444444444444444,
              "#bd3786"
             ],
             [
              0.5555555555555556,
              "#d8576b"
             ],
             [
              0.6666666666666666,
              "#ed7953"
             ],
             [
              0.7777777777777778,
              "#fb9f3a"
             ],
             [
              0.8888888888888888,
              "#fdca26"
             ],
             [
              1,
              "#f0f921"
             ]
            ],
            "type": "heatmap"
           }
          ],
          "heatmapgl": [
           {
            "colorbar": {
             "outlinewidth": 0,
             "ticks": ""
            },
            "colorscale": [
             [
              0,
              "#0d0887"
             ],
             [
              0.1111111111111111,
              "#46039f"
             ],
             [
              0.2222222222222222,
              "#7201a8"
             ],
             [
              0.3333333333333333,
              "#9c179e"
             ],
             [
              0.4444444444444444,
              "#bd3786"
             ],
             [
              0.5555555555555556,
              "#d8576b"
             ],
             [
              0.6666666666666666,
              "#ed7953"
             ],
             [
              0.7777777777777778,
              "#fb9f3a"
             ],
             [
              0.8888888888888888,
              "#fdca26"
             ],
             [
              1,
              "#f0f921"
             ]
            ],
            "type": "heatmapgl"
           }
          ],
          "histogram": [
           {
            "marker": {
             "pattern": {
              "fillmode": "overlay",
              "size": 10,
              "solidity": 0.2
             }
            },
            "type": "histogram"
           }
          ],
          "histogram2d": [
           {
            "colorbar": {
             "outlinewidth": 0,
             "ticks": ""
            },
            "colorscale": [
             [
              0,
              "#0d0887"
             ],
             [
              0.1111111111111111,
              "#46039f"
             ],
             [
              0.2222222222222222,
              "#7201a8"
             ],
             [
              0.3333333333333333,
              "#9c179e"
             ],
             [
              0.4444444444444444,
              "#bd3786"
             ],
             [
              0.5555555555555556,
              "#d8576b"
             ],
             [
              0.6666666666666666,
              "#ed7953"
             ],
             [
              0.7777777777777778,
              "#fb9f3a"
             ],
             [
              0.8888888888888888,
              "#fdca26"
             ],
             [
              1,
              "#f0f921"
             ]
            ],
            "type": "histogram2d"
           }
          ],
          "histogram2dcontour": [
           {
            "colorbar": {
             "outlinewidth": 0,
             "ticks": ""
            },
            "colorscale": [
             [
              0,
              "#0d0887"
             ],
             [
              0.1111111111111111,
              "#46039f"
             ],
             [
              0.2222222222222222,
              "#7201a8"
             ],
             [
              0.3333333333333333,
              "#9c179e"
             ],
             [
              0.4444444444444444,
              "#bd3786"
             ],
             [
              0.5555555555555556,
              "#d8576b"
             ],
             [
              0.6666666666666666,
              "#ed7953"
             ],
             [
              0.7777777777777778,
              "#fb9f3a"
             ],
             [
              0.8888888888888888,
              "#fdca26"
             ],
             [
              1,
              "#f0f921"
             ]
            ],
            "type": "histogram2dcontour"
           }
          ],
          "mesh3d": [
           {
            "colorbar": {
             "outlinewidth": 0,
             "ticks": ""
            },
            "type": "mesh3d"
           }
          ],
          "parcoords": [
           {
            "line": {
             "colorbar": {
              "outlinewidth": 0,
              "ticks": ""
             }
            },
            "type": "parcoords"
           }
          ],
          "pie": [
           {
            "automargin": true,
            "type": "pie"
           }
          ],
          "scatter": [
           {
            "fillpattern": {
             "fillmode": "overlay",
             "size": 10,
             "solidity": 0.2
            },
            "type": "scatter"
           }
          ],
          "scatter3d": [
           {
            "line": {
             "colorbar": {
              "outlinewidth": 0,
              "ticks": ""
             }
            },
            "marker": {
             "colorbar": {
              "outlinewidth": 0,
              "ticks": ""
             }
            },
            "type": "scatter3d"
           }
          ],
          "scattercarpet": [
           {
            "marker": {
             "colorbar": {
              "outlinewidth": 0,
              "ticks": ""
             }
            },
            "type": "scattercarpet"
           }
          ],
          "scattergeo": [
           {
            "marker": {
             "colorbar": {
              "outlinewidth": 0,
              "ticks": ""
             }
            },
            "type": "scattergeo"
           }
          ],
          "scattergl": [
           {
            "marker": {
             "colorbar": {
              "outlinewidth": 0,
              "ticks": ""
             }
            },
            "type": "scattergl"
           }
          ],
          "scattermapbox": [
           {
            "marker": {
             "colorbar": {
              "outlinewidth": 0,
              "ticks": ""
             }
            },
            "type": "scattermapbox"
           }
          ],
          "scatterpolar": [
           {
            "marker": {
             "colorbar": {
              "outlinewidth": 0,
              "ticks": ""
             }
            },
            "type": "scatterpolar"
           }
          ],
          "scatterpolargl": [
           {
            "marker": {
             "colorbar": {
              "outlinewidth": 0,
              "ticks": ""
             }
            },
            "type": "scatterpolargl"
           }
          ],
          "scatterternary": [
           {
            "marker": {
             "colorbar": {
              "outlinewidth": 0,
              "ticks": ""
             }
            },
            "type": "scatterternary"
           }
          ],
          "surface": [
           {
            "colorbar": {
             "outlinewidth": 0,
             "ticks": ""
            },
            "colorscale": [
             [
              0,
              "#0d0887"
             ],
             [
              0.1111111111111111,
              "#46039f"
             ],
             [
              0.2222222222222222,
              "#7201a8"
             ],
             [
              0.3333333333333333,
              "#9c179e"
             ],
             [
              0.4444444444444444,
              "#bd3786"
             ],
             [
              0.5555555555555556,
              "#d8576b"
             ],
             [
              0.6666666666666666,
              "#ed7953"
             ],
             [
              0.7777777777777778,
              "#fb9f3a"
             ],
             [
              0.8888888888888888,
              "#fdca26"
             ],
             [
              1,
              "#f0f921"
             ]
            ],
            "type": "surface"
           }
          ],
          "table": [
           {
            "cells": {
             "fill": {
              "color": "#EBF0F8"
             },
             "line": {
              "color": "white"
             }
            },
            "header": {
             "fill": {
              "color": "#C8D4E3"
             },
             "line": {
              "color": "white"
             }
            },
            "type": "table"
           }
          ]
         },
         "layout": {
          "annotationdefaults": {
           "arrowcolor": "#2a3f5f",
           "arrowhead": 0,
           "arrowwidth": 1
          },
          "autotypenumbers": "strict",
          "coloraxis": {
           "colorbar": {
            "outlinewidth": 0,
            "ticks": ""
           }
          },
          "colorscale": {
           "diverging": [
            [
             0,
             "#8e0152"
            ],
            [
             0.1,
             "#c51b7d"
            ],
            [
             0.2,
             "#de77ae"
            ],
            [
             0.3,
             "#f1b6da"
            ],
            [
             0.4,
             "#fde0ef"
            ],
            [
             0.5,
             "#f7f7f7"
            ],
            [
             0.6,
             "#e6f5d0"
            ],
            [
             0.7,
             "#b8e186"
            ],
            [
             0.8,
             "#7fbc41"
            ],
            [
             0.9,
             "#4d9221"
            ],
            [
             1,
             "#276419"
            ]
           ],
           "sequential": [
            [
             0,
             "#0d0887"
            ],
            [
             0.1111111111111111,
             "#46039f"
            ],
            [
             0.2222222222222222,
             "#7201a8"
            ],
            [
             0.3333333333333333,
             "#9c179e"
            ],
            [
             0.4444444444444444,
             "#bd3786"
            ],
            [
             0.5555555555555556,
             "#d8576b"
            ],
            [
             0.6666666666666666,
             "#ed7953"
            ],
            [
             0.7777777777777778,
             "#fb9f3a"
            ],
            [
             0.8888888888888888,
             "#fdca26"
            ],
            [
             1,
             "#f0f921"
            ]
           ],
           "sequentialminus": [
            [
             0,
             "#0d0887"
            ],
            [
             0.1111111111111111,
             "#46039f"
            ],
            [
             0.2222222222222222,
             "#7201a8"
            ],
            [
             0.3333333333333333,
             "#9c179e"
            ],
            [
             0.4444444444444444,
             "#bd3786"
            ],
            [
             0.5555555555555556,
             "#d8576b"
            ],
            [
             0.6666666666666666,
             "#ed7953"
            ],
            [
             0.7777777777777778,
             "#fb9f3a"
            ],
            [
             0.8888888888888888,
             "#fdca26"
            ],
            [
             1,
             "#f0f921"
            ]
           ]
          },
          "colorway": [
           "#636efa",
           "#EF553B",
           "#00cc96",
           "#ab63fa",
           "#FFA15A",
           "#19d3f3",
           "#FF6692",
           "#B6E880",
           "#FF97FF",
           "#FECB52"
          ],
          "font": {
           "color": "#2a3f5f"
          },
          "geo": {
           "bgcolor": "white",
           "lakecolor": "white",
           "landcolor": "#E5ECF6",
           "showlakes": true,
           "showland": true,
           "subunitcolor": "white"
          },
          "hoverlabel": {
           "align": "left"
          },
          "hovermode": "closest",
          "mapbox": {
           "style": "light"
          },
          "paper_bgcolor": "white",
          "plot_bgcolor": "#E5ECF6",
          "polar": {
           "angularaxis": {
            "gridcolor": "white",
            "linecolor": "white",
            "ticks": ""
           },
           "bgcolor": "#E5ECF6",
           "radialaxis": {
            "gridcolor": "white",
            "linecolor": "white",
            "ticks": ""
           }
          },
          "scene": {
           "xaxis": {
            "backgroundcolor": "#E5ECF6",
            "gridcolor": "white",
            "gridwidth": 2,
            "linecolor": "white",
            "showbackground": true,
            "ticks": "",
            "zerolinecolor": "white"
           },
           "yaxis": {
            "backgroundcolor": "#E5ECF6",
            "gridcolor": "white",
            "gridwidth": 2,
            "linecolor": "white",
            "showbackground": true,
            "ticks": "",
            "zerolinecolor": "white"
           },
           "zaxis": {
            "backgroundcolor": "#E5ECF6",
            "gridcolor": "white",
            "gridwidth": 2,
            "linecolor": "white",
            "showbackground": true,
            "ticks": "",
            "zerolinecolor": "white"
           }
          },
          "shapedefaults": {
           "line": {
            "color": "#2a3f5f"
           }
          },
          "ternary": {
           "aaxis": {
            "gridcolor": "white",
            "linecolor": "white",
            "ticks": ""
           },
           "baxis": {
            "gridcolor": "white",
            "linecolor": "white",
            "ticks": ""
           },
           "bgcolor": "#E5ECF6",
           "caxis": {
            "gridcolor": "white",
            "linecolor": "white",
            "ticks": ""
           }
          },
          "title": {
           "x": 0.05
          },
          "xaxis": {
           "automargin": true,
           "gridcolor": "white",
           "linecolor": "white",
           "ticks": "",
           "title": {
            "standoff": 15
           },
           "zerolinecolor": "white",
           "zerolinewidth": 2
          },
          "yaxis": {
           "automargin": true,
           "gridcolor": "white",
           "linecolor": "white",
           "ticks": "",
           "title": {
            "standoff": 15
           },
           "zerolinecolor": "white",
           "zerolinewidth": 2
          }
         }
        },
        "title": {
         "text": "Comparing Views vs Videos created"
        },
        "xaxis": {
         "anchor": "y",
         "domain": [
          0,
          1
         ],
         "title": {
          "text": "Month of 2023"
         }
        },
        "yaxis": {
         "anchor": "x",
         "domain": [
          0,
          1
         ],
         "title": {
          "text": "Count of Views and Videos"
         }
        }
       }
      }
     },
     "metadata": {},
     "output_type": "display_data"
    }
   ],
   "source": [
    "fig = px.line(df, \n",
    "              x='Month.1', \n",
    "              y=['ViewsK', 'VideosK'], \n",
    "              line_group='variable', \n",
    "              title='Comparing Views vs Videos created',\n",
    "              labels={'value': 'ASd'}\n",
    "              )\n",
    "fig.update_layout(\n",
    "    xaxis_title='Month of 2023', \n",
    "    yaxis_title='Count of Views and Videos'\n",
    ")\n",
    "fig.show()\n"
   ]
  }
 ],
 "metadata": {
  "kernelspec": {
   "display_name": "base",
   "language": "python",
   "name": "python3"
  },
  "language_info": {
   "codemirror_mode": {
    "name": "ipython",
    "version": 3
   },
   "file_extension": ".py",
   "mimetype": "text/x-python",
   "name": "python",
   "nbconvert_exporter": "python",
   "pygments_lexer": "ipython3",
   "version": "3.11.5"
  }
 },
 "nbformat": 4,
 "nbformat_minor": 2
}
