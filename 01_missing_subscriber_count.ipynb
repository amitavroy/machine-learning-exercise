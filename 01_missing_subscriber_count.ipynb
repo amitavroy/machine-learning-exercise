{
 "cells": [
  {
   "cell_type": "markdown",
   "metadata": {},
   "source": [
    "# Missing data fix"
   ]
  },
  {
   "cell_type": "markdown",
   "metadata": {},
   "source": [
    "## Loading libraries\n",
    "\n",
    "Here, I am loading the libraries that are required for the job."
   ]
  },
  {
   "cell_type": "code",
   "execution_count": 16,
   "id": "de19fe39",
   "metadata": {},
   "outputs": [],
   "source": [
    "import pandas as pd\n",
    "import numpy as np\n",
    "from sklearn.impute import SimpleImputer\n"
   ]
  },
  {
   "cell_type": "markdown",
   "metadata": {},
   "source": [
    "## Loading data\n",
    "\n",
    "Here I am loading the data from the CSV file and showing the list.\n",
    "The 4th row is missing"
   ]
  },
  {
   "cell_type": "code",
   "execution_count": 17,
   "id": "809fe60c",
   "metadata": {},
   "outputs": [
    {
     "name": "stdout",
     "output_type": "stream",
     "text": [
      "         date  count\n",
      "0  24-11-2023    5.0\n",
      "1  23-11-2023    5.0\n",
      "2  22-11-2023    2.0\n",
      "3  21-11-2023    7.0\n",
      "4  20-11-2023    NaN\n",
      "5  19-11-2023    8.0\n",
      "6  18-11-2023   12.0\n"
     ]
    }
   ],
   "source": [
    "dataset = pd.read_csv('data/subscribers.csv')\n",
    "print(dataset)\n"
   ]
  },
  {
   "cell_type": "code",
   "execution_count": 18,
   "metadata": {},
   "outputs": [
    {
     "name": "stdout",
     "output_type": "stream",
     "text": [
      "         date  count\n",
      "0  24-11-2023    5.0\n",
      "1  23-11-2023    5.0\n",
      "2  22-11-2023    2.0\n",
      "3  21-11-2023    7.0\n",
      "4  20-11-2023    6.0\n",
      "5  19-11-2023    8.0\n",
      "6  18-11-2023   12.0\n"
     ]
    }
   ],
   "source": [
    "imputer = SimpleImputer(missing_values=np.nan, strategy='mean')\n",
    "count_2d = dataset['count'].values.reshape(-1, 1)\n",
    "imputed_data = imputer.fit_transform(count_2d)\n",
    "\n",
    "imputed_count = imputed_data.flatten()\n",
    "dataset['count'] = imputed_count.round()\n",
    "\n",
    "print(dataset)\n"
   ]
  }
 ],
 "metadata": {
  "kernelspec": {
   "display_name": "Python 3 (ipykernel)",
   "language": "python",
   "name": "python3"
  },
  "language_info": {
   "codemirror_mode": {
    "name": "ipython",
    "version": 3
   },
   "file_extension": ".py",
   "mimetype": "text/x-python",
   "name": "python",
   "nbconvert_exporter": "python",
   "pygments_lexer": "ipython3",
   "version": "3.11.5"
  }
 },
 "nbformat": 4,
 "nbformat_minor": 5
}
